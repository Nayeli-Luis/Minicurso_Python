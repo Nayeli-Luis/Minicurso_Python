{
 "cells": [
  {
   "cell_type": "markdown",
   "id": "5584cf5c",
   "metadata": {},
   "source": [
    "# Control de flujo iterativo o repetitivo: `for-in`\n",
    "\n",
    "A continuación se encuentra el código para que abras un archivo `FASTA` con múltiples secuencias."
   ]
  },
  {
   "cell_type": "code",
   "execution_count": null,
   "id": "e6bb4c3d",
   "metadata": {},
   "outputs": [],
   "source": [
    "from Bio import SeqIO\n",
    "\n",
    "secuencias = []\n",
    "\n",
    "for secuencia in SeqIO.parse(\"rep-seqs.fna\", \"fasta\"):\n",
    "    secuencias.append(str(secuencia.seq))"
   ]
  },
  {
   "cell_type": "markdown",
   "id": "d949357c",
   "metadata": {},
   "source": [
    "### Ejercicio 1.\n",
    "\n",
    "* Selecciona una secuencia de la lista `secuencias` y genera un programa para contar su contenido de GC utilizando un ciclo `for`."
   ]
  },
  {
   "cell_type": "code",
   "execution_count": null,
   "id": "8c5d3834",
   "metadata": {},
   "outputs": [],
   "source": []
  },
  {
   "cell_type": "markdown",
   "id": "52a84503",
   "metadata": {},
   "source": [
    "### Ejercicio 2.\n",
    "* A través de una lista de comprehensión, crea una lista que indique si el tamaño de las secuencias vistas en clase son múltiplos de 3. "
   ]
  },
  {
   "cell_type": "code",
   "execution_count": null,
   "id": "d02096cc",
   "metadata": {},
   "outputs": [],
   "source": []
  }
 ],
 "metadata": {
  "kernelspec": {
   "display_name": "Python 3 (ipykernel)",
   "language": "python",
   "name": "python3"
  },
  "language_info": {
   "codemirror_mode": {
    "name": "ipython",
    "version": 3
   },
   "file_extension": ".py",
   "mimetype": "text/x-python",
   "name": "python",
   "nbconvert_exporter": "python",
   "pygments_lexer": "ipython3",
   "version": "3.9.15"
  },
  "varInspector": {
   "cols": {
    "lenName": 16,
    "lenType": 16,
    "lenVar": 40
   },
   "kernels_config": {
    "python": {
     "delete_cmd_postfix": "",
     "delete_cmd_prefix": "del ",
     "library": "var_list.py",
     "varRefreshCmd": "print(var_dic_list())"
    },
    "r": {
     "delete_cmd_postfix": ") ",
     "delete_cmd_prefix": "rm(",
     "library": "var_list.r",
     "varRefreshCmd": "cat(var_dic_list()) "
    }
   },
   "types_to_exclude": [
    "module",
    "function",
    "builtin_function_or_method",
    "instance",
    "_Feature"
   ],
   "window_display": false
  }
 },
 "nbformat": 4,
 "nbformat_minor": 5
}
