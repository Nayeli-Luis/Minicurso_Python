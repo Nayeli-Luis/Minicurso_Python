{
 "cells": [
  {
   "cell_type": "markdown",
   "id": "360bfa51",
   "metadata": {},
   "source": [
    "## Algoritmos\n",
    "\n",
    "Crear un algoritmo para conocer el contenido de GC que hay en una cadena de DNA.\n",
    "\n",
    "$$\n",
    "\\mbox{%GC} = \\frac{G + C}{G + C + T + A} \\cdot 100\n",
    "$$\n",
    "\n",
    "Cadena de DNA problema: \n",
    "\n",
    "```\n",
    "'AGAGCCCCACTACTTGTATTAATACTGATATAATTTCTTTATCCCACTGGTAGGTACTGTCTGGCAACTAGTTAAGGAGAGCGTTGTCGCCACCCACATAAGATACAAGGTTGTACCGGCACTCATTTCGATGAGTAGGTCGGTTTACAGCCCTTGGACGTTGATCAGCCGTACGTCACTACAAAATCATGCGTCTATTCGCTGTAAGCATAGCGACTCCCTAGCGGGGAAATAGTTACTAGAACAACTCTCTAGCCTGGCATTGGGAGAGTCCATTAATGTCGTGCAGGCTAGGTGTAG'\n",
    "```"
   ]
  },
  {
   "cell_type": "markdown",
   "id": "76d99f13",
   "metadata": {},
   "source": [
    "1. Contesta lo siguiente:  <font color=gray>(*Da doble click sobre la celda para que puedas editarla.)</font>* \n",
    "     * ¿Cuál es tu dato de entrada?\n",
    "     \n",
    "     * ¿Cuál es tu dato de salida?"
   ]
  },
  {
   "cell_type": "markdown",
   "id": "b4985ba5",
   "metadata": {},
   "source": [
    "2. Crea el algoritmo narrado y/o el pseudocódigo aquí:  <font color=gray>(*Da doble click sobre la celda para que puedas editarla.)</font>* \n",
    "\n",
    "\n"
   ]
  },
  {
   "cell_type": "markdown",
   "id": "e7890a01",
   "metadata": {},
   "source": [
    "3. Genera tu código en `Python` en la siguiente celda de código."
   ]
  },
  {
   "cell_type": "code",
   "execution_count": 1,
   "id": "7beb86c7",
   "metadata": {},
   "outputs": [],
   "source": [
    "# Codigo de Python"
   ]
  }
 ],
 "metadata": {
  "kernelspec": {
   "display_name": "Python 3 (ipykernel)",
   "language": "python",
   "name": "python3"
  },
  "language_info": {
   "codemirror_mode": {
    "name": "ipython",
    "version": 3
   },
   "file_extension": ".py",
   "mimetype": "text/x-python",
   "name": "python",
   "nbconvert_exporter": "python",
   "pygments_lexer": "ipython3",
   "version": "3.9.15"
  },
  "varInspector": {
   "cols": {
    "lenName": 16,
    "lenType": 16,
    "lenVar": 40
   },
   "kernels_config": {
    "python": {
     "delete_cmd_postfix": "",
     "delete_cmd_prefix": "del ",
     "library": "var_list.py",
     "varRefreshCmd": "print(var_dic_list())"
    },
    "r": {
     "delete_cmd_postfix": ") ",
     "delete_cmd_prefix": "rm(",
     "library": "var_list.r",
     "varRefreshCmd": "cat(var_dic_list()) "
    }
   },
   "types_to_exclude": [
    "module",
    "function",
    "builtin_function_or_method",
    "instance",
    "_Feature"
   ],
   "window_display": false
  }
 },
 "nbformat": 4,
 "nbformat_minor": 5
}
