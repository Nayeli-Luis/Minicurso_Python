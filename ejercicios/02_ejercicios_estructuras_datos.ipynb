{
 "cells": [
  {
   "cell_type": "markdown",
   "id": "ae1ba893",
   "metadata": {},
   "source": [
    "## Estructuras de datos\n",
    "\n",
    "### Indexing y slicing con listas"
   ]
  },
  {
   "cell_type": "code",
   "execution_count": 1,
   "id": "3390494c",
   "metadata": {},
   "outputs": [
    {
     "data": {
      "text/plain": [
       "'BRCA2'"
      ]
     },
     "execution_count": 1,
     "metadata": {},
     "output_type": "execute_result"
    }
   ],
   "source": [
    "# Genes de cancer de mama \n",
    "cancer_mama = [\"BARD1\", \"BRCA2\", \"CHEK2\", \"CASP8\", \"TP53\", \"PALB2\"]"
   ]
  },
  {
   "cell_type": "code",
   "execution_count": null,
   "id": "8695afa9",
   "metadata": {},
   "outputs": [],
   "source": [
    "# Acceder al ultimo elemento \n"
   ]
  },
  {
   "cell_type": "code",
   "execution_count": null,
   "id": "c278471d",
   "metadata": {},
   "outputs": [],
   "source": [
    "# Acceder del elemento 2 al 4\n"
   ]
  },
  {
   "cell_type": "code",
   "execution_count": null,
   "id": "77cdb49a",
   "metadata": {},
   "outputs": [],
   "source": [
    "# Acceder a todos los elementos a partir de elemento 1\n"
   ]
  },
  {
   "cell_type": "code",
   "execution_count": null,
   "id": "a05c1bd2",
   "metadata": {},
   "outputs": [],
   "source": [
    "# todos los elementos excepto el ultimo \n"
   ]
  },
  {
   "cell_type": "code",
   "execution_count": null,
   "id": "99225912",
   "metadata": {},
   "outputs": [],
   "source": [
    "# Toma todos los elementos a partir de la posición 0 y brinca de dos en dos\n"
   ]
  },
  {
   "cell_type": "code",
   "execution_count": null,
   "id": "fe3df19d",
   "metadata": {},
   "outputs": [],
   "source": [
    "# Otra lista\n",
    "otros_genes = [\"ATM\", \"KRAS\", \"BCRA1\", \"AKT1\", \"RAD52L\"]\n",
    "\n",
    "# Hacer una lista de listas\n",
    "listas_genes = [otros_genes, cancer_mama]\n",
    "listas_genes"
   ]
  },
  {
   "cell_type": "code",
   "execution_count": null,
   "id": "d4ff1e7f",
   "metadata": {},
   "outputs": [],
   "source": [
    "# Extraer los elementos en la posición 2 de cada elemento en la lista de listas\n"
   ]
  },
  {
   "cell_type": "code",
   "execution_count": null,
   "id": "fafd0a90",
   "metadata": {},
   "outputs": [],
   "source": [
    "# Crea una lista con los elementos\n",
    "# que extrajiste en el ejercicio anterior"
   ]
  },
  {
   "cell_type": "markdown",
   "id": "ce639d61",
   "metadata": {},
   "source": [
    "## Métodos con listas"
   ]
  },
  {
   "cell_type": "code",
   "execution_count": null,
   "id": "854baea4",
   "metadata": {},
   "outputs": [],
   "source": [
    "# ¿Cuál es el tamaño de la lista que se llama cancer_mama?"
   ]
  },
  {
   "cell_type": "code",
   "execution_count": null,
   "id": "38b72e53",
   "metadata": {},
   "outputs": [],
   "source": [
    "# Agrega a cancer_mama los siguientes genes: \"XRCC3\" y \"XRCC2\""
   ]
  }
 ],
 "metadata": {
  "kernelspec": {
   "display_name": "Python 3 (ipykernel)",
   "language": "python",
   "name": "python3"
  },
  "language_info": {
   "codemirror_mode": {
    "name": "ipython",
    "version": 3
   },
   "file_extension": ".py",
   "mimetype": "text/x-python",
   "name": "python",
   "nbconvert_exporter": "python",
   "pygments_lexer": "ipython3",
   "version": "3.9.15"
  },
  "varInspector": {
   "cols": {
    "lenName": 16,
    "lenType": 16,
    "lenVar": 40
   },
   "kernels_config": {
    "python": {
     "delete_cmd_postfix": "",
     "delete_cmd_prefix": "del ",
     "library": "var_list.py",
     "varRefreshCmd": "print(var_dic_list())"
    },
    "r": {
     "delete_cmd_postfix": ") ",
     "delete_cmd_prefix": "rm(",
     "library": "var_list.r",
     "varRefreshCmd": "cat(var_dic_list()) "
    }
   },
   "types_to_exclude": [
    "module",
    "function",
    "builtin_function_or_method",
    "instance",
    "_Feature"
   ],
   "window_display": false
  }
 },
 "nbformat": 4,
 "nbformat_minor": 5
}
