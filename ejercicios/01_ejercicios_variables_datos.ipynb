{
 "cells": [
  {
   "cell_type": "markdown",
   "id": "33cef088",
   "metadata": {},
   "source": [
    "## Datos y variables\n",
    "\n",
    "Define una varible que contenga la siguiente cadena de caracteres:\n",
    "\n",
    "```\n",
    "HumptyDumptysatonawallHumptyDumptyhadagreatfallAlltheKingshorsesandalltheKingsmenCouldntputHumptyDumptyinhisplaceagain\n",
    "```\n",
    "\n",
    "A través del método de rebanado (*slicing*) extrae: \n",
    "\n",
    "1. `Humpty`\n",
    "2. `Dumpty`\n",
    "3. `again`\n"
   ]
  },
  {
   "cell_type": "code",
   "execution_count": null,
   "id": "c85c29af",
   "metadata": {},
   "outputs": [],
   "source": [
    "# Respuesta para 'Humpty'\n",
    "\n"
   ]
  },
  {
   "cell_type": "code",
   "execution_count": null,
   "id": "8eeeb483",
   "metadata": {},
   "outputs": [],
   "source": [
    "# Respuesta para 'Dumpty'"
   ]
  },
  {
   "cell_type": "code",
   "execution_count": null,
   "id": "5c125a30",
   "metadata": {},
   "outputs": [],
   "source": [
    "# Respuesta para 'again'"
   ]
  },
  {
   "cell_type": "markdown",
   "id": "aa326ec5",
   "metadata": {},
   "source": [
    "* ¿Cómo harías para obtener la cadena: `Humpy Dumpty` (incluyendo el espacio)?"
   ]
  },
  {
   "cell_type": "code",
   "execution_count": null,
   "id": "44d12d79",
   "metadata": {},
   "outputs": [],
   "source": [
    "# Respuesta"
   ]
  }
 ],
 "metadata": {
  "kernelspec": {
   "display_name": "Python 3 (ipykernel)",
   "language": "python",
   "name": "python3"
  },
  "language_info": {
   "codemirror_mode": {
    "name": "ipython",
    "version": 3
   },
   "file_extension": ".py",
   "mimetype": "text/x-python",
   "name": "python",
   "nbconvert_exporter": "python",
   "pygments_lexer": "ipython3",
   "version": "3.9.15"
  },
  "varInspector": {
   "cols": {
    "lenName": 16,
    "lenType": 16,
    "lenVar": 40
   },
   "kernels_config": {
    "python": {
     "delete_cmd_postfix": "",
     "delete_cmd_prefix": "del ",
     "library": "var_list.py",
     "varRefreshCmd": "print(var_dic_list())"
    },
    "r": {
     "delete_cmd_postfix": ") ",
     "delete_cmd_prefix": "rm(",
     "library": "var_list.r",
     "varRefreshCmd": "cat(var_dic_list()) "
    }
   },
   "types_to_exclude": [
    "module",
    "function",
    "builtin_function_or_method",
    "instance",
    "_Feature"
   ],
   "window_display": false
  }
 },
 "nbformat": 4,
 "nbformat_minor": 5
}
