{
 "cells": [
  {
   "cell_type": "markdown",
   "id": "d217296a",
   "metadata": {},
   "source": [
    " ## Funciones\n",
    " \n",
    " A continuación se encuentra el código para que abras un archivo `FASTA` con múltiples secuencias.\n",
    " \n",
    "\n",
    "\n"
   ]
  },
  {
   "cell_type": "code",
   "execution_count": 3,
   "id": "e082c3e5",
   "metadata": {},
   "outputs": [],
   "source": [
    "from Bio import SeqIO\n",
    "\n",
    "secuencias = []\n",
    "\n",
    "for secuencia in SeqIO.parse(\"rep-seqs.fna\", \"fasta\"):\n",
    "    secuencias.append(str(secuencia.seq))"
   ]
  },
  {
   "cell_type": "markdown",
   "id": "8cb829b9",
   "metadata": {},
   "source": [
    "### Ejercicio 1.\n",
    "\n",
    "* Convierte el programa para validar una secuencia una función. El programa se encuentra en la clase de `for-in`."
   ]
  },
  {
   "cell_type": "code",
   "execution_count": null,
   "id": "2da3bf89",
   "metadata": {},
   "outputs": [],
   "source": [
    "# Aquí tu código"
   ]
  },
  {
   "cell_type": "markdown",
   "id": "1d0f2dff",
   "metadata": {},
   "source": [
    "### Ejercicio 2.\n",
    "\n",
    "* Convierte en una función el programa que creaste para obtener el contenido de GC de una secuencia."
   ]
  },
  {
   "cell_type": "code",
   "execution_count": 2,
   "id": "3bb5d7f2",
   "metadata": {},
   "outputs": [],
   "source": [
    "# Solucion\n"
   ]
  }
 ],
 "metadata": {
  "kernelspec": {
   "display_name": "Python 3 (ipykernel)",
   "language": "python",
   "name": "python3"
  },
  "language_info": {
   "codemirror_mode": {
    "name": "ipython",
    "version": 3
   },
   "file_extension": ".py",
   "mimetype": "text/x-python",
   "name": "python",
   "nbconvert_exporter": "python",
   "pygments_lexer": "ipython3",
   "version": "3.9.15"
  },
  "varInspector": {
   "cols": {
    "lenName": 16,
    "lenType": 16,
    "lenVar": 40
   },
   "kernels_config": {
    "python": {
     "delete_cmd_postfix": "",
     "delete_cmd_prefix": "del ",
     "library": "var_list.py",
     "varRefreshCmd": "print(var_dic_list())"
    },
    "r": {
     "delete_cmd_postfix": ") ",
     "delete_cmd_prefix": "rm(",
     "library": "var_list.r",
     "varRefreshCmd": "cat(var_dic_list()) "
    }
   },
   "types_to_exclude": [
    "module",
    "function",
    "builtin_function_or_method",
    "instance",
    "_Feature"
   ],
   "window_display": false
  }
 },
 "nbformat": 4,
 "nbformat_minor": 5
}
