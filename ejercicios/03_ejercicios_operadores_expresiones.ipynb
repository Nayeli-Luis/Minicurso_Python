{
 "cells": [
  {
   "cell_type": "markdown",
   "id": "99d2946e",
   "metadata": {},
   "source": [
    "## Operadores y expresiones \n",
    "* ¿Cuántos años hay en 3237643 días? ¿Y meses? ¿Y semanas? ¿Y horas?"
   ]
  },
  {
   "cell_type": "code",
   "execution_count": 1,
   "id": "28279a76",
   "metadata": {},
   "outputs": [],
   "source": [
    "# Respuesta"
   ]
  },
  {
   "cell_type": "markdown",
   "id": "ef7b576b",
   "metadata": {},
   "source": [
    "* Evalua con `Python` los siguientes enunciados: \n",
    "\n",
    "1. 20 es mayor que cuarenta y 2 es menor o igual que 10.\n"
   ]
  },
  {
   "cell_type": "code",
   "execution_count": null,
   "id": "edcd1df1",
   "metadata": {},
   "outputs": [],
   "source": [
    "# Respuesta"
   ]
  },
  {
   "cell_type": "markdown",
   "id": "2a8a14e8",
   "metadata": {},
   "source": [
    "2. 32 es menor que 50 y 20 es menor o igual que 20."
   ]
  },
  {
   "cell_type": "code",
   "execution_count": null,
   "id": "21fe66f8",
   "metadata": {},
   "outputs": [],
   "source": [
    "# Respuesta"
   ]
  },
  {
   "cell_type": "markdown",
   "id": "0e4fc1ca",
   "metadata": {},
   "source": [
    "* ¿Cuál crees que sería el resultado de la siguiente \"super\" expresión?\n",
    "\n",
    "```\n",
    "(Falso Y 2 <= 10) O (32 < 50 Y 20 <= 20)\n",
    "```\n",
    "\n",
    "Comprueba tu resultado con `Python`."
   ]
  },
  {
   "cell_type": "code",
   "execution_count": 2,
   "id": "1305dfdc",
   "metadata": {},
   "outputs": [],
   "source": [
    "# Aquí tu codigo"
   ]
  },
  {
   "cell_type": "markdown",
   "id": "929ae568",
   "metadata": {},
   "source": [
    "* ¿Cuál crees que sería el resultado de ésta otra expresión?\n",
    "\n",
    "```\n",
    "Falso O (Verdadero Y 20 <= 20)\n",
    "\n",
    "```\n",
    "\n",
    "Comprueba con `Python`."
   ]
  },
  {
   "cell_type": "code",
   "execution_count": null,
   "id": "15fe66d9",
   "metadata": {},
   "outputs": [],
   "source": [
    "# Aqui tu codigo"
   ]
  },
  {
   "cell_type": "markdown",
   "id": "7f982292",
   "metadata": {},
   "source": [
    "* Las expresiones lógicas nos permiten definir intervalos, considera la siguiente variable:\n"
   ]
  },
  {
   "cell_type": "code",
   "execution_count": 3,
   "id": "ba3dd5c0",
   "metadata": {},
   "outputs": [],
   "source": [
    "edad = 28"
   ]
  },
  {
   "cell_type": "markdown",
   "id": "894a7ea8",
   "metadata": {},
   "source": [
    "* ¿Cuál sería el resultado de la siguiente expresión?\n",
    "\n",
    "```\n",
    "(edad >= 18) Y (edad <= 24)\n",
    "```\n",
    "\n",
    "Comprueba con `Python`."
   ]
  }
 ],
 "metadata": {
  "kernelspec": {
   "display_name": "Python 3 (ipykernel)",
   "language": "python",
   "name": "python3"
  },
  "language_info": {
   "codemirror_mode": {
    "name": "ipython",
    "version": 3
   },
   "file_extension": ".py",
   "mimetype": "text/x-python",
   "name": "python",
   "nbconvert_exporter": "python",
   "pygments_lexer": "ipython3",
   "version": "3.9.15"
  },
  "varInspector": {
   "cols": {
    "lenName": 16,
    "lenType": 16,
    "lenVar": 40
   },
   "kernels_config": {
    "python": {
     "delete_cmd_postfix": "",
     "delete_cmd_prefix": "del ",
     "library": "var_list.py",
     "varRefreshCmd": "print(var_dic_list())"
    },
    "r": {
     "delete_cmd_postfix": ") ",
     "delete_cmd_prefix": "rm(",
     "library": "var_list.r",
     "varRefreshCmd": "cat(var_dic_list()) "
    }
   },
   "types_to_exclude": [
    "module",
    "function",
    "builtin_function_or_method",
    "instance",
    "_Feature"
   ],
   "window_display": false
  }
 },
 "nbformat": 4,
 "nbformat_minor": 5
}
