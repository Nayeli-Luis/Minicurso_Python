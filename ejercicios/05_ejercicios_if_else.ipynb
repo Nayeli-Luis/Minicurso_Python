{
 "cells": [
  {
   "cell_type": "markdown",
   "id": "f29bd865",
   "metadata": {},
   "source": [
    "### Ejercicio\n",
    "\n",
    "* Crear un programa que transcriba una cadena de DNA si y sól si su tamaño es múltiplo de 3. Te sugieron representar tu algoritmo de alguna forma (descripción narrada, diagrama de flujo o pseudocódigo) antes de que lo escribas en código.\n",
    "\n",
    "<div class=\"alert alert-warning\">\n",
    "&#128161; 🤓 Piensa:\n",
    "    \n",
    "* ¿Cuál es tu dato de entrada?\n",
    "    \n",
    "* ¿Cuál es tu dato de salida?\n",
    "    \n",
    "* ¿Cuál es el proceso?\n",
    "\n",
    "</div>"
   ]
  },
  {
   "cell_type": "markdown",
   "id": "38287b17",
   "metadata": {},
   "source": [
    "<font color=\"gray\">*Puedes escribir aquí las respuestas a las preguntas anteriores, recuerda dar doble click para poder editar la celda.*</font>"
   ]
  },
  {
   "cell_type": "code",
   "execution_count": null,
   "id": "81e1f987",
   "metadata": {},
   "outputs": [],
   "source": [
    "# Tu código"
   ]
  }
 ],
 "metadata": {
  "kernelspec": {
   "display_name": "Python 3 (ipykernel)",
   "language": "python",
   "name": "python3"
  },
  "language_info": {
   "codemirror_mode": {
    "name": "ipython",
    "version": 3
   },
   "file_extension": ".py",
   "mimetype": "text/x-python",
   "name": "python",
   "nbconvert_exporter": "python",
   "pygments_lexer": "ipython3",
   "version": "3.9.15"
  },
  "varInspector": {
   "cols": {
    "lenName": 16,
    "lenType": 16,
    "lenVar": 40
   },
   "kernels_config": {
    "python": {
     "delete_cmd_postfix": "",
     "delete_cmd_prefix": "del ",
     "library": "var_list.py",
     "varRefreshCmd": "print(var_dic_list())"
    },
    "r": {
     "delete_cmd_postfix": ") ",
     "delete_cmd_prefix": "rm(",
     "library": "var_list.r",
     "varRefreshCmd": "cat(var_dic_list()) "
    }
   },
   "types_to_exclude": [
    "module",
    "function",
    "builtin_function_or_method",
    "instance",
    "_Feature"
   ],
   "window_display": false
  }
 },
 "nbformat": 4,
 "nbformat_minor": 5
}
