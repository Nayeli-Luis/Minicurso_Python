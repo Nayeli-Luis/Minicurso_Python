{
 "cells": [
  {
   "cell_type": "markdown",
   "id": "8a913a43",
   "metadata": {},
   "source": [
    "#### Curso: Fundamentos de programación de `Python`\n",
    "#### Genómica computacional, Facultad de Ciencias UNAM\n",
    "#### Nayeli Luis, <nayeli.luis.vargas@gmail.com>\n",
    "# Control de flujo de un algoritmo"
   ]
  },
  {
   "cell_type": "code",
   "execution_count": 13,
   "id": "c99d4628",
   "metadata": {
    "scrolled": true
   },
   "outputs": [
    {
     "data": {
      "image/jpeg": "[encoded data removed]",
      "text/html": [
       "\n",
       "        <iframe\n",
       "            width=\"800\"\n",
       "            height=\"300\"\n",
       "            src=\"https://www.youtube.com/embed/YWEsl-Km1JY\"\n",
       "            frameborder=\"0\"\n",
       "            allowfullscreen\n",
       "            \n",
       "        ></iframe>\n",
       "        "
      ],
      "text/plain": [
       "<IPython.lib.display.YouTubeVideo at 0x7feb807097c0>"
      ]
     },
     "execution_count": 13,
     "metadata": {},
     "output_type": "execute_result"
    }
   ],
   "source": [
    "from IPython.display import YouTubeVideo\n",
    "\n",
    "YouTubeVideo('YWEsl-Km1JY', width=800, height=300)"
   ]
  },
  {
   "cell_type": "markdown",
   "id": "6febbd5e",
   "metadata": {},
   "source": [
    "El <mark>control</mark> de flujo hace referencia al <mark>orden en el que se ejecutarán las instrucciones</mark> de un programa. Existen las sentencias de control que son palabras reservadas que van a condicionar la ejecución del algoritmo.\n",
    "\n",
    "Tipos:\n",
    "\n",
    "* Secuencial\n",
    "* Selectivo o de desición\n",
    "* Repetitivo o bucles\n",
    "\n",
    "\n",
    "<img src=\"https://i.ibb.co/T4kyKmS/control-flujo.jpg\" width=500 alt=\"control-flujo\" border=\"0\">\n"
   ]
  },
  {
   "cell_type": "markdown",
   "id": "405777b1",
   "metadata": {},
   "source": [
    "## Control de flujo selectivo/decisión \n",
    "\n",
    "### `if-else`\n",
    "\n",
    "El algoritmo evalúa una expresión logica y en función del resultado ejecuta cierto bloque de código. \n",
    "\n",
    "Sintaxis en pseudocódigo:\n",
    "\n",
    "    Si la condición es cierta:\n",
    "      Ejecuta éste código\n",
    "    SiNo \n",
    "      Entonces ejecuta este código\n",
    "      \n",
    "Sintaxis en Python\n",
    "\n",
    "```python\n",
    "\n",
    "if condicion cierta:\n",
    "    Ejectuta este código\n",
    "else: \n",
    "    Ejecuta este otro código\n",
    "```"
   ]
  },
  {
   "cell_type": "markdown",
   "id": "e0a07f3c",
   "metadata": {},
   "source": [
    "**Ejemplo práctico:** \n",
    "\n",
    "* Diseñar un algoritmo para determinar si una cadena de DNA es un  múltiplo de 3.\n",
    "\n",
    "<img src=\"https://i.ibb.co/X5SDXyc/dogma-vacio.png\" width=500 alt=\"dogma-vacio\" border=\"0\">\n"
   ]
  },
  {
   "cell_type": "markdown",
   "id": "8634627c",
   "metadata": {},
   "source": [
    "**NOTA**\n",
    "\n",
    "<div class=\"alert alert-warning\">    \n",
    "\n",
    "🤓 Un múltiplo es un número que contiene a otro de forma exacta, entonces decimos que un número $a$ es múltiplo de otro número $b$ cuando el residuo de dividir $a$ entre $b$ ($\\frac{a}{b}$) es cero. \n",
    "    \n",
    "</div>"
   ]
  },
  {
   "cell_type": "markdown",
   "id": "16c27a7d",
   "metadata": {},
   "source": [
    "**Pseudocódigo**:\n",
    "\n",
    "```\n",
    "Determinar tamaño de cadena de DNA.\n",
    "Obtener el residuo del tamaño de cadena dividido entre 3\n",
    "Si (residuo == 0):\n",
    "    Imprimir  \"La cadena tiene codones exactos.\" \n",
    "SiNo:\n",
    "    Imprimir \"La cadena no tiene codones exactos. No puedes continuar con tu análisis.\"\n",
    "```"
   ]
  },
  {
   "cell_type": "markdown",
   "id": "f21ea612",
   "metadata": {},
   "source": [
    "La cadena de DNA problema es el gen que codifica la proteína para el procesamiento del 16S rRNA en *Klebsiella pneumoniae*, el cual se ecuentra en [éste archivo fasta](https://github.com/Nayeli-Luis/minicurso-python-2023/blob/main/clases/Kpneumoniae_gene.fna) y [aquí](https://www.ncbi.nlm.nih.gov/gene/11849089) hay mas información sobre la secuencia en cuestión. "
   ]
  },
  {
   "cell_type": "code",
   "execution_count": null,
   "id": "663825c0",
   "metadata": {},
   "outputs": [],
   "source": [
    "# Abrir un archivo fasta con python\n",
    "\n",
    "encabezado = ''\n",
    "secuencia = ''\n",
    "\n",
    "archivo = open(\"Kpneumoniae_gene.fna\", \"r\")\n",
    "\n",
    "for linea in archivo:\n",
    "    if linea[0] == \">\":\n",
    "        encabezado = linea.strip()\n",
    "    else: \n",
    "        secuencia += linea.strip()\n",
    "        \n",
    "print(encabezado)\n",
    "print(secuencia)"
   ]
  },
  {
   "cell_type": "code",
   "execution_count": null,
   "id": "72824ba4",
   "metadata": {},
   "outputs": [],
   "source": [
    "type(secuencia)"
   ]
  },
  {
   "cell_type": "code",
   "execution_count": null,
   "id": "8bd23d37",
   "metadata": {},
   "outputs": [],
   "source": [
    "\"\"\"\n",
    "Determinar tamaño de cadena de DNA.\n",
    "Obtener el residuo del tamaño de cadena dividido entre 3\n",
    "Si (residuo == 0):\n",
    "    Imprimir  \"La cadena tiene codones exactos.\" \n",
    "SiNo:\n",
    "    Imprimir \"La cadena no tiene codones exactos. No puedes continuar con tu análisis.\"\n",
    "\"\"\"\n"
   ]
  },
  {
   "cell_type": "code",
   "execution_count": null,
   "id": "77b34cf1",
   "metadata": {},
   "outputs": [],
   "source": []
  },
  {
   "cell_type": "markdown",
   "id": "99463b56",
   "metadata": {},
   "source": [
    "En este caso la condición lógica está denotada por la evaluación de la expresión: \n",
    "\n",
    "```python\n",
    "len(secuencia) % 3 == 0\n",
    "```\n",
    "\n",
    "Si sustituimos la expresión por los valores: \n",
    "\n",
    "```python\n",
    "459 % 3 == 0 \n",
    "```\n",
    "\n",
    "El resultado de ésta expresión es `True`."
   ]
  },
  {
   "cell_type": "code",
   "execution_count": null,
   "id": "307f6f84",
   "metadata": {},
   "outputs": [],
   "source": [
    "len(secuencia) % 3 == 0"
   ]
  },
  {
   "cell_type": "markdown",
   "id": "31ff39a0",
   "metadata": {},
   "source": [
    "### `elif`: Para más de dos opciones\n",
    "\n",
    "Permite dar otra opción en forma de otra condición lógica que el algoritmo puede evaluar.\n",
    "\n",
    "Sintaxis en pseudocódigo:\n",
    "\n",
    "```\n",
    "Si condicion_logica:\n",
    "    Ejecuta éste código\n",
    "SiNo condicion_logica:\n",
    "    Ejecuta éste codigp\n",
    "SiNo:\n",
    "    Ejecuta éste código\n",
    "```\n",
    "\n",
    "Sintaxis en Ptyhon\n",
    "\n",
    "```python\n",
    "if condicion_logica:\n",
    "    Ejecuta este código\n",
    "elif condicion_logica:\n",
    "    Ejecuta este codigo\n",
    "else:\n",
    "    Ejecuta este código\n",
    "```"
   ]
  },
  {
   "cell_type": "markdown",
   "id": "66a4da33",
   "metadata": {},
   "source": [
    "### Ejemplo práctico con `elif`\n",
    "* Crear algoritmo que evalúe si el primer codón es de inicio, de alto o ninguno de los anteriores. \n",
    "\n",
    "**NOTA**\n",
    "\n",
    "<div class=\"alert alert-warning\">\n",
    "\n",
    "🤓 Recuerda el código genético:\n",
    "\n",
    "<img src=\"https://i.ibb.co/6PS9bp9/codigo-codones.png\" width=600 alt=\"codigo-codones\" border=\"0\">\n",
    "\n",
    "En procariontes también existe el codón \"GUG/GTG\" como codon de inicio\n",
    "    \n",
    "</div>"
   ]
  },
  {
   "cell_type": "markdown",
   "id": "80f026b3",
   "metadata": {},
   "source": [
    "**Pseudocódigo**:\n",
    "\n",
    "```\n",
    "Obtener primer codón.\n",
    "Si codon1 == \"ATG\" OR codon1 == \"GTG\":\n",
    "    Imprimir \"El primer codón es un codón de inicio.\"\n",
    "SiNo codon1 en ('TAA', 'TAG', 'TGA'):\n",
    "    Imprimir \"El primer codón es un codon de alto.\"\n",
    "SiNo:\n",
    "    Imprimir \"El primer codón no es un codón de inicio ni alto.\"\n",
    "\n",
    "```"
   ]
  },
  {
   "cell_type": "code",
   "execution_count": null,
   "id": "f2274574",
   "metadata": {},
   "outputs": [],
   "source": []
  },
  {
   "cell_type": "code",
   "execution_count": null,
   "id": "38ae405d",
   "metadata": {},
   "outputs": [],
   "source": []
  }
 ],
 "metadata": {
  "kernelspec": {
   "display_name": "Python 3 (ipykernel)",
   "language": "python",
   "name": "python3"
  },
  "language_info": {
   "codemirror_mode": {
    "name": "ipython",
    "version": 3
   },
   "file_extension": ".py",
   "mimetype": "text/x-python",
   "name": "python",
   "nbconvert_exporter": "python",
   "pygments_lexer": "ipython3",
   "version": "3.9.15"
  },
  "varInspector": {
   "cols": {
    "lenName": 16,
    "lenType": 16,
    "lenVar": 40
   },
   "kernels_config": {
    "python": {
     "delete_cmd_postfix": "",
     "delete_cmd_prefix": "del ",
     "library": "var_list.py",
     "varRefreshCmd": "print(var_dic_list())"
    },
    "r": {
     "delete_cmd_postfix": ") ",
     "delete_cmd_prefix": "rm(",
     "library": "var_list.r",
     "varRefreshCmd": "cat(var_dic_list()) "
    }
   },
   "types_to_exclude": [
    "module",
    "function",
    "builtin_function_or_method",
    "instance",
    "_Feature"
   ],
   "window_display": false
  }
 },
 "nbformat": 4,
 "nbformat_minor": 5
}
