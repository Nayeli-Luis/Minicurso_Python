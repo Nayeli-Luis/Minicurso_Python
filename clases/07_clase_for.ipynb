{
 "cells": [
  {
   "cell_type": "markdown",
   "id": "aba7a824",
   "metadata": {},
   "source": [
    "#### Curso: Fundamentos de programación con `Python`\n",
    "#### Genómica computacional, Facultad de Ciencias UNAM\n",
    "#### Nayeli Luis, <nayeli.luis.vargas@gmail.com>\n",
    "# Control de flujo iterativo o repetitivo: `for-in`"
   ]
  },
  {
   "cell_type": "markdown",
   "id": "6e342f29",
   "metadata": {},
   "source": [
    "## `for -in`\n",
    "\n",
    "El bucle `for-in` permite la ejecución de un bloque de código un número determinado de veces, en función del número de elementos que hay en un  <font color=\"blue\"> **objeto iterable**</font>.\n",
    "\n",
    "**Sintaxis en pseudocódigo:** \n",
    "\n",
    "```\n",
    "Para elemento en secuencia\n",
    "  bloque de codigo\n",
    "FinPara\n",
    "```\n",
    "\n",
    "**Sintaxis en `Python`**:\n",
    "\n",
    "```python\n",
    "\n",
    "for elemento in secuencia:\n",
    "    Ejecutar éste bloque de código\n",
    "```\n",
    "\n",
    "**Nota**: No existe una palabra reservada que indique el fin de un bucle for solo la identación. "
   ]
  },
  {
   "cell_type": "code",
   "execution_count": null,
   "id": "eff6de67",
   "metadata": {},
   "outputs": [],
   "source": [
    "# Crear lista\n",
    "especies_endemicas = ['ajolote', 'teporingo', 'vaquita marina', 'totoaba', 'biznaga barril']\n",
    "\n",
    "# Bucle for\n"
   ]
  },
  {
   "cell_type": "markdown",
   "id": "0f16a39d",
   "metadata": {},
   "source": [
    "### `for` con `range()`\n",
    "\n",
    "Generalmente utilizamos un bucle `for` para interar sobre la posición de un objeto de `Python`.\n",
    "\n",
    "- `range()` devuelve una secuencia de números, comenzado por 0, por default incrementa en 1 y se detiene un número antes del número especificado. "
   ]
  },
  {
   "cell_type": "code",
   "execution_count": null,
   "id": "a3ca6439",
   "metadata": {
    "scrolled": true
   },
   "outputs": [],
   "source": []
  },
  {
   "cell_type": "code",
   "execution_count": null,
   "id": "3c0e2cbb",
   "metadata": {},
   "outputs": [],
   "source": []
  },
  {
   "cell_type": "code",
   "execution_count": null,
   "id": "e258d8fd",
   "metadata": {},
   "outputs": [],
   "source": []
  },
  {
   "cell_type": "markdown",
   "id": "665045f1",
   "metadata": {},
   "source": [
    "### Ejemplos prácticos\n",
    "\n",
    "* Hacer programa que imprima la posición de cada base de una cadena de DNA. "
   ]
  },
  {
   "cell_type": "code",
   "execution_count": null,
   "id": "ceb63fbd",
   "metadata": {},
   "outputs": [],
   "source": [
    "# Iterar sobre la cada elemento directamente\n",
    "secuencia = \"ATCTATGATA\"\n"
   ]
  },
  {
   "cell_type": "code",
   "execution_count": null,
   "id": "aaf4cfbe",
   "metadata": {},
   "outputs": [],
   "source": []
  },
  {
   "cell_type": "markdown",
   "id": "cd3cd2ce",
   "metadata": {},
   "source": [
    "* Determinar el tamaño de una secuencia sin utilizar la función `len()`."
   ]
  },
  {
   "cell_type": "code",
   "execution_count": null,
   "id": "8be17a95",
   "metadata": {},
   "outputs": [],
   "source": []
  },
  {
   "cell_type": "markdown",
   "id": "65bf47d6",
   "metadata": {},
   "source": [
    "**Leer un archivo `FASTA` con varias secuencias.**\n",
    "\n",
    "Un archivo `FASTA` es un archivo de texto plano que contiene secuencias, las cuales puedes ser de DNA, RNA o aminoácidos. Los archivos `FASTA` pueden tener los formatos `.txt`, `.fasta`, `.fna` o `.faa`. Los archivos `FASTA` pueden contener solo una secuencia o varias.\n",
    "\n",
    "Para abrir archivos `FASTA` fácilmente podemos utilizar un \"paquete\" que se llama [`Biopython`](http://biopython.org/DIST/docs/tutorial/Tutorial.pdf). `Biopython` nos permitirá ingresar al encabezado y a la secuencia de cada elemento de un archivo `FASTA`."
   ]
  },
  {
   "cell_type": "code",
   "execution_count": null,
   "id": "454282b1",
   "metadata": {
    "scrolled": true
   },
   "outputs": [],
   "source": []
  },
  {
   "cell_type": "code",
   "execution_count": null,
   "id": "2f78151e",
   "metadata": {
    "scrolled": false
   },
   "outputs": [],
   "source": []
  },
  {
   "cell_type": "code",
   "execution_count": null,
   "id": "85b4aa9f",
   "metadata": {},
   "outputs": [],
   "source": []
  },
  {
   "cell_type": "markdown",
   "id": "57fe9a7d",
   "metadata": {},
   "source": [
    "### Listas de comprehensión"
   ]
  },
  {
   "cell_type": "markdown",
   "id": "1e905ec2",
   "metadata": {},
   "source": [
    "* Crear un programa que extraiga el tercer codón de las secuencias de DNA contenidas en una lista."
   ]
  },
  {
   "cell_type": "markdown",
   "id": "deff46e4",
   "metadata": {},
   "source": [
    "**`list.append()`**: Agrega un elemento al final de una lista creada. "
   ]
  },
  {
   "cell_type": "code",
   "execution_count": null,
   "id": "4921935e",
   "metadata": {},
   "outputs": [],
   "source": [
    "# Generar una lista vacía\n"
   ]
  },
  {
   "cell_type": "code",
   "execution_count": null,
   "id": "b2e880d1",
   "metadata": {},
   "outputs": [],
   "source": [
    "# Lista de comprehensión\n"
   ]
  },
  {
   "cell_type": "markdown",
   "id": "00a446ab",
   "metadata": {},
   "source": [
    "### Ejemplo práctico\n",
    "* Generar un programa que indique si una secuencia de DNA es válida.\n",
    "\n",
    "Pseudocódigo:\n",
    "\n",
    "```\n",
    "Definir caracteres válidos como nucleotidos\n",
    "\n",
    "Para cada base en la secuencia de DNA\n",
    "    Si base está en nucleotidos:\n",
    "        Imprimir Verdadero\n",
    "    SiNo:\n",
    "        Imprimir Falso\n",
    "```"
   ]
  },
  {
   "cell_type": "code",
   "execution_count": null,
   "id": "3a3f9686",
   "metadata": {
    "scrolled": true
   },
   "outputs": [],
   "source": [
    "\n",
    "# Definir caracteres válidos como nucleotidos\n",
    "\n",
    "# Para cada base en la secuencia de DNA:\n",
    "\n",
    "#    Si base está en nucleotidos:\n",
    "\n",
    "#        Imprimir Verdadero\n",
    "\n",
    "#    SiNo:\n",
    "\n",
    "#        Imprimir Falso\n"
   ]
  },
  {
   "cell_type": "markdown",
   "id": "7f107c6c",
   "metadata": {},
   "source": [
    "### Sentencias `continue` y `break`\n",
    "\n",
    "* `continue`: Sirve para detener la iteración actual y volver al principio del bucle  para realizar otra iteración. \n",
    "\n",
    "* `break`: Significa que se va detener la ejecución de un bucle y además se saldrá de éste."
   ]
  },
  {
   "cell_type": "code",
   "execution_count": null,
   "id": "80d990dc",
   "metadata": {},
   "outputs": [],
   "source": []
  },
  {
   "cell_type": "code",
   "execution_count": null,
   "id": "b155f752",
   "metadata": {
    "scrolled": true
   },
   "outputs": [],
   "source": [
    "\n",
    "# print(dna)\n",
    "\n"
   ]
  },
  {
   "cell_type": "code",
   "execution_count": null,
   "id": "4e8df9cc",
   "metadata": {},
   "outputs": [],
   "source": [
    "# Con la función all \n"
   ]
  }
 ],
 "metadata": {
  "kernelspec": {
   "display_name": "Python 3 (ipykernel)",
   "language": "python",
   "name": "python3"
  },
  "language_info": {
   "codemirror_mode": {
    "name": "ipython",
    "version": 3
   },
   "file_extension": ".py",
   "mimetype": "text/x-python",
   "name": "python",
   "nbconvert_exporter": "python",
   "pygments_lexer": "ipython3",
   "version": "3.9.15"
  },
  "varInspector": {
   "cols": {
    "lenName": 16,
    "lenType": 16,
    "lenVar": 40
   },
   "kernels_config": {
    "python": {
     "delete_cmd_postfix": "",
     "delete_cmd_prefix": "del ",
     "library": "var_list.py",
     "varRefreshCmd": "print(var_dic_list())"
    },
    "r": {
     "delete_cmd_postfix": ") ",
     "delete_cmd_prefix": "rm(",
     "library": "var_list.r",
     "varRefreshCmd": "cat(var_dic_list()) "
    }
   },
   "types_to_exclude": [
    "module",
    "function",
    "builtin_function_or_method",
    "instance",
    "_Feature"
   ],
   "window_display": false
  }
 },
 "nbformat": 4,
 "nbformat_minor": 5
}
