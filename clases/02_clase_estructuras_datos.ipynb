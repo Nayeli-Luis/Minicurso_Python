{
 "cells": [
  {
   "cell_type": "markdown",
   "id": "7ed59b89",
   "metadata": {
    "id": "7ed59b89"
   },
   "source": [
    "\n",
    "\n",
    "#### Curso: Fundamentos de programación de `Python`\n",
    "#### Genómica computacional, Facultad de Ciencias UNAM\n",
    "#### Nayeli Luis, <nayeli.luis.vargas@gmail.com>\n",
    "\n",
    "# Estructuras de datos\n",
    "\n",
    "Son una forma de organizar datos.\n",
    "\n",
    "<a href=\"https://ibb.co/RzpWYp0\"><img src=\"https://i.ibb.co/gzMCmMT/estructuras-datos-python.png\" alt=\"estructuras-datos-python\" height=\"400\" width=\"600\" border=\"0\"></a>\n",
    "\n",
    "- [X] Listas\n",
    "- [X] Tuplas\n",
    "- [X] Diccionarios\n",
    "- [ ] Sets\n",
    "- [ ] Dataframes\n",
    "\n",
    "## Objetos iterables de `Python`\n",
    "\n",
    "<img src=\"https://i.ibb.co/GpzYFTf/objetos-iterables-python.png\" height=\"400\" width=\"600\" alt=\"objetos-iterables-python\" border=\"0\">"
   ]
  },
  {
   "cell_type": "markdown",
   "id": "6821ce6c",
   "metadata": {
    "id": "6821ce6c"
   },
   "source": [
    "## Listas\n",
    "\n",
    "Características:\n",
    "* Son ordenadas.\n",
    "* Pueden contener diferentes tipos de datos y estructuras de datos.\n",
    "* Se puede acceder a sus elementos por indexado. \n",
    "* Son mutables, es decir, los elementos pueden cambiar.\n",
    "\n",
    "\n",
    "**Sintaxis**:\n",
    "\n",
    "```python\n",
    "nombre_lista = [<elemento1>, <elemento2>, <elemento3>]\n",
    "```\n",
    "\n",
    "<a href=\"https://ibb.co/k8KPgSM\"><img src=\"https://i.ibb.co/WynRW2s/listas.png\" height=\"200\" width=\"400\" alt=\"listas\" border=\"0\"></a>\n",
    "\n",
    "### Crear listas"
   ]
  },
  {
   "cell_type": "code",
   "execution_count": null,
   "id": "78d27b8d",
   "metadata": {
    "id": "78d27b8d",
    "outputId": "302e45e0-58c0-43a2-bd0e-71dadc1804dc"
   },
   "outputs": [],
   "source": [
    "# Creando listas\n",
    "\n",
    "# Lista vacia\n",
    "L = []\n",
    "print(\"Tipo de objeto 'L':\", type(L))\n",
    "\n",
    "# Listas sencillas/simples\n",
    "# Lista con datos numéricos\n",
    "numeros = [1, 2, 3, 4, 5 ,6 ,7 , 8, 9 , 10]\n",
    "\n",
    "# Lista con datos tipo caracter/strings\n",
    "cadenas = [\"Adenina\", \"Citosina\", \"Guanina\", \"Timina\"]\n",
    "\n",
    "# Lista mixta\n",
    "lista_mixta = [100, 453.45, 12, \"perro\"]\n",
    "\n",
    "type(lista_mixta)"
   ]
  },
  {
   "cell_type": "code",
   "execution_count": null,
   "id": "7b4da052",
   "metadata": {},
   "outputs": [],
   "source": [
    "# Utilizando la función list()\n",
    "dna = \"ATCTGATGACTGATGC\"\n",
    "\n",
    "# Cada elemento de python será el elemento de una lista. La función list() acepta elementos \n",
    "# interables de python\n"
   ]
  },
  {
   "cell_type": "code",
   "execution_count": null,
   "id": "18b5869f",
   "metadata": {
    "scrolled": true
   },
   "outputs": [],
   "source": [
    "# Error\n",
    "# No objeto iterable de python\n"
   ]
  },
  {
   "cell_type": "code",
   "execution_count": null,
   "id": "fdf483e5",
   "metadata": {
    "scrolled": true
   },
   "outputs": [],
   "source": [
    "# Crear una lista con un rango de numeros\n",
    "# 3 es el stop, no se incluye \n"
   ]
  },
  {
   "cell_type": "code",
   "execution_count": null,
   "id": "184b7ee5",
   "metadata": {},
   "outputs": [],
   "source": [
    "# Guardar en una variable\n"
   ]
  },
  {
   "cell_type": "markdown",
   "id": "64aafbae",
   "metadata": {},
   "source": [
    "### Indexing y slicing en listas"
   ]
  },
  {
   "cell_type": "code",
   "execution_count": null,
   "id": "b0f2c807",
   "metadata": {},
   "outputs": [],
   "source": [
    "# Genes de canceer de mama \n",
    "cancer_mama = [\"BARD1\", \"BRCA2\", \"CHEK2\", \"CASP8\", \"TP53\", \"PALB2\"]\n",
    "cancer_mama"
   ]
  },
  {
   "cell_type": "code",
   "execution_count": null,
   "id": "b8be0610",
   "metadata": {},
   "outputs": [],
   "source": [
    "# Tamaño de la lista\n"
   ]
  },
  {
   "cell_type": "code",
   "execution_count": null,
   "id": "5b9ddd31",
   "metadata": {
    "scrolled": true
   },
   "outputs": [],
   "source": [
    "# Slincing en listas\n",
    "# Acceder al primer elemento \n"
   ]
  },
  {
   "cell_type": "code",
   "execution_count": null,
   "id": "72c9e81e",
   "metadata": {
    "scrolled": true
   },
   "outputs": [],
   "source": [
    "# Toma todos los elementos a partir del elemento 1 y brinca de dos en dos\n"
   ]
  },
  {
   "cell_type": "code",
   "execution_count": null,
   "id": "7ea4d676",
   "metadata": {},
   "outputs": [],
   "source": [
    "# Invertir una lista: Todos los elementos de -1 en -1\n"
   ]
  },
  {
   "cell_type": "markdown",
   "id": "ae6c31a7",
   "metadata": {},
   "source": [
    "### Operaciones con listas"
   ]
  },
  {
   "cell_type": "code",
   "execution_count": null,
   "id": "f1d36632",
   "metadata": {
    "scrolled": true
   },
   "outputs": [],
   "source": [
    "# Concatenar listas \n",
    "print(\"Lista original:\", cancer_mama)\n",
    "otros_genes = [\"ATM\", \"KRAS\", \"BCRA1\", \"AKT1\", \"RAD52L\"]\n",
    "# Lista concatenada\n"
   ]
  },
  {
   "cell_type": "code",
   "execution_count": null,
   "id": "83799acd",
   "metadata": {
    "scrolled": true
   },
   "outputs": [],
   "source": [
    "# Repetición\n"
   ]
  },
  {
   "cell_type": "code",
   "execution_count": null,
   "id": "9d518a16",
   "metadata": {},
   "outputs": [],
   "source": [
    "# Eliminar algun elemento de la lista\n",
    "# del es una palabra reservada\n"
   ]
  },
  {
   "cell_type": "code",
   "execution_count": null,
   "id": "f864742f",
   "metadata": {},
   "outputs": [],
   "source": [
    "# Cambiar un elemento\n"
   ]
  },
  {
   "cell_type": "markdown",
   "id": "0f58a99b",
   "metadata": {},
   "source": [
    "### Listas anidadas\n",
    "\n",
    "<img src=\"https://i.ibb.co/3k1mgj4/lista-listas.png\" height=\"200\" width=\"400\" alt=\"lista-listas\" border=\"0\">"
   ]
  },
  {
   "cell_type": "code",
   "execution_count": null,
   "id": "383c23f0",
   "metadata": {},
   "outputs": [],
   "source": [
    "# Imprimir ambas listas\n"
   ]
  },
  {
   "cell_type": "code",
   "execution_count": null,
   "id": "a85eb229",
   "metadata": {},
   "outputs": [],
   "source": [
    "# Hacer una lista de listas\n"
   ]
  },
  {
   "cell_type": "code",
   "execution_count": null,
   "id": "b03fc359",
   "metadata": {},
   "outputs": [],
   "source": []
  },
  {
   "cell_type": "code",
   "execution_count": null,
   "id": "12c37354",
   "metadata": {},
   "outputs": [],
   "source": [
    "# Extraer informacion con sintaxis de corchetes\n"
   ]
  },
  {
   "cell_type": "code",
   "execution_count": null,
   "id": "ad5267c5",
   "metadata": {},
   "outputs": [],
   "source": []
  },
  {
   "cell_type": "code",
   "execution_count": null,
   "id": "0ee1cf53",
   "metadata": {},
   "outputs": [],
   "source": []
  },
  {
   "cell_type": "markdown",
   "id": "e2c33237",
   "metadata": {
    "id": "e2c33237"
   },
   "source": [
    "### Métodos con listas"
   ]
  },
  {
   "cell_type": "markdown",
   "id": "92f5672c",
   "metadata": {
    "id": "92f5672c"
   },
   "source": [
    "* `len(L)`: Conocer el número de elementos de una lista."
   ]
  },
  {
   "cell_type": "code",
   "execution_count": null,
   "id": "36d6fb17",
   "metadata": {
    "id": "36d6fb17",
    "outputId": "e3bd6ac5-5272-4426-aa54-4e7ca7be3573"
   },
   "outputs": [],
   "source": []
  },
  {
   "cell_type": "markdown",
   "id": "c4a82026",
   "metadata": {
    "id": "c4a82026"
   },
   "source": [
    "* `L.append()`: Agregar elementos a una lista."
   ]
  },
  {
   "cell_type": "code",
   "execution_count": null,
   "id": "dabbc25d",
   "metadata": {
    "colab": {
     "base_uri": "https://localhost:8080/"
    },
    "executionInfo": {
     "elapsed": 166,
     "status": "ok",
     "timestamp": 1646776160179,
     "user": {
      "displayName": "Nayeli Luis",
      "photoUrl": "https://lh3.googleusercontent.com/a/default-user=s64",
      "userId": "15927795025324202798"
     },
     "user_tz": 360
    },
    "id": "dabbc25d",
    "outputId": "d5706d31-cfc4-4e8d-d053-1b65fd0e4756",
    "scrolled": true
   },
   "outputs": [],
   "source": []
  },
  {
   "cell_type": "markdown",
   "id": "e9f4b56d",
   "metadata": {},
   "source": [
    "* `L.extend()`: Agrega el elemento o los elementos al final. "
   ]
  },
  {
   "cell_type": "code",
   "execution_count": null,
   "id": "7fe30847",
   "metadata": {
    "scrolled": true
   },
   "outputs": [],
   "source": [
    "\n",
    "\n",
    "# cancer_mama + otros_genes"
   ]
  },
  {
   "cell_type": "markdown",
   "id": "aa88502c",
   "metadata": {},
   "source": [
    "* `L.sort()`: Ordena la lista."
   ]
  },
  {
   "cell_type": "code",
   "execution_count": null,
   "id": "55b306b7",
   "metadata": {
    "scrolled": true
   },
   "outputs": [],
   "source": []
  },
  {
   "cell_type": "markdown",
   "id": "8b020aee",
   "metadata": {},
   "source": [
    "## Tuplas\n",
    "\n",
    "Son muy similares a las listas, con la diferencia de que sus elementos no se pueden cambiar, por eso son objetos imutables. \n",
    "\n",
    "<a href=\"https://ibb.co/8xYcDhh\"><img src=\"https://i.ibb.co/gW4VMnn/tuplas-python.png\" height=\"200\" width=\"400\" alt=\"tuplas-python\" border=\"0\"></a>\n",
    "\n",
    "```python\n",
    "tupla = (elemento1, elemento2, elemento3)\n",
    "```\n"
   ]
  },
  {
   "cell_type": "code",
   "execution_count": null,
   "id": "adc09d38",
   "metadata": {
    "scrolled": true
   },
   "outputs": [],
   "source": [
    "# Crear tuplas\n",
    "# Tupla vacia\n",
    "T = ()\n",
    "\n",
    "# Tupla de numeros\n",
    "nums_t = (1 , 3, 4, 5, 6, 7, 8, 9, 10)\n",
    "print(nums_t)\n",
    "\n",
    "# tupla mixta \n",
    "mixta_t = (112, 1432, 321, \"a\", \"b\", \"c\")\n",
    "print(mixta_t)"
   ]
  },
  {
   "cell_type": "markdown",
   "id": "2a5a7b6b",
   "metadata": {},
   "source": [
    "### Acceder a los elementos de un tupla\n",
    "\n",
    "El acceso también se lleva a cabo con la sintaxis de corchetes. "
   ]
  },
  {
   "cell_type": "code",
   "execution_count": null,
   "id": "e2f633de",
   "metadata": {},
   "outputs": [],
   "source": []
  },
  {
   "cell_type": "markdown",
   "id": "ac8590ba",
   "metadata": {
    "id": "ac8590ba"
   },
   "source": [
    "## Diccionarios\n",
    "\n",
    "Un **diccionario** es una estructura de datos que permite almacenar cualquier tipo de dato como enteros, cadenas, listas e incluso funciones. Además cada elemento (`value`/`valor`) tiene un identificador único (`clave/key`).\n",
    "\n",
    "Se accede a sus elementos a través de las claves. \n",
    "\n",
    "<a href=\"https://ibb.co/1ZWCpQj\"><img src=\"https://i.ibb.co/qBQH4jV/diccionarios-Python.png\" height=\"200\" width=\"400\" alt=\"diccionarios-Python\" border=\"0\"></a>\n",
    "\n",
    "Sintaxis: \n",
    "\n",
    "```python\n",
    "diccionario = {'clave': 'valor'}\n",
    "```"
   ]
  },
  {
   "cell_type": "code",
   "execution_count": null,
   "id": "2d318a20",
   "metadata": {
    "id": "2d318a20",
    "outputId": "9bb842cb-19e1-4e41-a38f-795dca82c056"
   },
   "outputs": [],
   "source": [
    "# Crear diccionario\n",
    "\n",
    "satelites = {'Tierra': 1,\n",
    "         'Jupiter': 79,\n",
    "         'Marte': 2}\n",
    "\n",
    "# Conocer elementos de un diccionario\n",
    "satelites"
   ]
  },
  {
   "cell_type": "code",
   "execution_count": null,
   "id": "7e8c2dd6",
   "metadata": {},
   "outputs": [],
   "source": [
    "# Crear otro diccionario\n",
    "# Las claves pueden guardar como valor otra estructura de datos\n",
    "\n",
    "# Lista original \n",
    "cancer_mama = [\"BARD1\", \"BRCA2\", \"CHEK2\", \"CASP8\", \"TP53\", \"PALB2\"]\n",
    "\n",
    "# Construir diccionario\n"
   ]
  },
  {
   "cell_type": "markdown",
   "id": "b4bb3f7b",
   "metadata": {},
   "source": [
    "### Acceder al elemento de un diccionario"
   ]
  },
  {
   "cell_type": "code",
   "execution_count": null,
   "id": "3fa857c3",
   "metadata": {},
   "outputs": [],
   "source": [
    "# No se accede por posición como en las listas y las tupla s\n"
   ]
  },
  {
   "cell_type": "code",
   "execution_count": null,
   "id": "ee950769",
   "metadata": {
    "id": "ee950769",
    "outputId": "ae213248-fcee-4bc0-ec83-b8b584fd802c"
   },
   "outputs": [],
   "source": [
    "# Se accede a través de las llaves\n"
   ]
  },
  {
   "cell_type": "code",
   "execution_count": null,
   "id": "4dfb1053",
   "metadata": {},
   "outputs": [],
   "source": [
    "# Accedemos al elemento \"Genes1\"\n",
    "\n",
    "\n",
    "# Datos que estamos manejando \n"
   ]
  },
  {
   "cell_type": "code",
   "execution_count": null,
   "id": "8b64886c",
   "metadata": {},
   "outputs": [],
   "source": [
    "# Acceder a los elementos de la lista\n"
   ]
  },
  {
   "cell_type": "markdown",
   "id": "0a893634",
   "metadata": {
    "id": "0a893634"
   },
   "source": [
    "### Acciones con diccionarios"
   ]
  },
  {
   "cell_type": "code",
   "execution_count": null,
   "id": "5a5f3fa2",
   "metadata": {
    "id": "b5847dfc",
    "outputId": "52055fd6-6c8c-47ea-a831-7ba7a201fce7"
   },
   "outputs": [],
   "source": [
    "# Agregar un valor \n"
   ]
  },
  {
   "cell_type": "code",
   "execution_count": null,
   "id": "0d26fcdb",
   "metadata": {
    "id": "a920ff0b",
    "outputId": "3ebe8b37-fef4-437b-91c6-3904850df827",
    "scrolled": false
   },
   "outputs": [],
   "source": [
    "# Eliminar un elemento \n"
   ]
  },
  {
   "cell_type": "markdown",
   "id": "eb539f1d",
   "metadata": {},
   "source": [
    "### Funciones integradas/ Métodos para  diccionarios "
   ]
  },
  {
   "cell_type": "code",
   "execution_count": null,
   "id": "612db4a9",
   "metadata": {
    "id": "612db4a9",
    "outputId": "b884ea91-82f2-4bf9-cd1b-38c3ea823444"
   },
   "outputs": [],
   "source": [
    "# Conocer los elementos de un diccionario\n"
   ]
  },
  {
   "cell_type": "code",
   "execution_count": null,
   "id": "d9fc50d2",
   "metadata": {},
   "outputs": [],
   "source": [
    "# Hacer con nos arroje una lista\n"
   ]
  },
  {
   "cell_type": "code",
   "execution_count": null,
   "id": "4d11a849",
   "metadata": {},
   "outputs": [],
   "source": [
    "# Acceder al número 79\n"
   ]
  },
  {
   "cell_type": "code",
   "execution_count": null,
   "id": "ce2f5090",
   "metadata": {
    "id": "ce2f5090",
    "outputId": "6bf48beb-3394-4818-ec88-dd0ab6a17a15"
   },
   "outputs": [],
   "source": [
    "# Conocer los valores\n"
   ]
  },
  {
   "cell_type": "code",
   "execution_count": null,
   "id": "c7d9a608",
   "metadata": {
    "id": "c7d9a608",
    "outputId": "07be0436-fc32-4787-890e-5d2fd2d9a10c"
   },
   "outputs": [],
   "source": [
    "# Conocer las claves\n"
   ]
  },
  {
   "cell_type": "code",
   "execution_count": null,
   "id": "974924b6",
   "metadata": {},
   "outputs": [],
   "source": [
    "# Concatenar diccionarios\n",
    "\n",
    "\n",
    "# Error\n"
   ]
  },
  {
   "cell_type": "code",
   "execution_count": null,
   "id": "a01773ef",
   "metadata": {},
   "outputs": [],
   "source": [
    "# Concatenar diccionarios con update()\n"
   ]
  }
 ],
 "metadata": {
  "colab": {
   "name": "02_estructuras_datos.ipynb",
   "provenance": []
  },
  "kernelspec": {
   "display_name": "Python 3 (ipykernel)",
   "language": "python",
   "name": "python3"
  },
  "language_info": {
   "codemirror_mode": {
    "name": "ipython",
    "version": 3
   },
   "file_extension": ".py",
   "mimetype": "text/x-python",
   "name": "python",
   "nbconvert_exporter": "python",
   "pygments_lexer": "ipython3",
   "version": "3.9.15"
  },
  "varInspector": {
   "cols": {
    "lenName": 16,
    "lenType": 16,
    "lenVar": 40
   },
   "kernels_config": {
    "python": {
     "delete_cmd_postfix": "",
     "delete_cmd_prefix": "del ",
     "library": "var_list.py",
     "varRefreshCmd": "print(var_dic_list())"
    },
    "r": {
     "delete_cmd_postfix": ") ",
     "delete_cmd_prefix": "rm(",
     "library": "var_list.r",
     "varRefreshCmd": "cat(var_dic_list()) "
    }
   },
   "types_to_exclude": [
    "module",
    "function",
    "builtin_function_or_method",
    "instance",
    "_Feature"
   ],
   "window_display": false
  }
 },
 "nbformat": 4,
 "nbformat_minor": 5
}
