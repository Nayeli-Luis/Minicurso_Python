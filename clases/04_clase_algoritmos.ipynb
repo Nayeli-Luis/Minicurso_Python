{
 "cells": [
  {
   "cell_type": "markdown",
   "id": "c98523ee",
   "metadata": {},
   "source": [
    "#### Curso: Fundamentos de programación de `Python`\n",
    "#### Genómica computacional, Facultad de Ciencias UNAM\n",
    "#### Nayeli Luis\n",
    "# Algoritmos"
   ]
  },
  {
   "cell_type": "code",
   "execution_count": 2,
   "id": "6f61178e",
   "metadata": {
    "scrolled": true
   },
   "outputs": [
    {
     "data": {
      "image/jpeg": "[encoded data removed]",
      "text/html": [
       "\n",
       "        <iframe\n",
       "            width=\"800\"\n",
       "            height=\"300\"\n",
       "            src=\"https://www.youtube.com/embed/xrdocLcp5Pg\"\n",
       "            frameborder=\"0\"\n",
       "            allowfullscreen\n",
       "            \n",
       "        ></iframe>\n",
       "        "
      ],
      "text/plain": [
       "<IPython.lib.display.YouTubeVideo at 0x7f18302f8580>"
      ]
     },
     "execution_count": 2,
     "metadata": {},
     "output_type": "execute_result"
    }
   ],
   "source": [
    "from IPython.display import YouTubeVideo\n",
    "\n",
    "YouTubeVideo('xrdocLcp5Pg', width=800, height=300)"
   ]
  },
  {
   "cell_type": "markdown",
   "id": "0ce03788",
   "metadata": {},
   "source": [
    "Un <mark>algoritmo</mark> es un conjunto de acciones finitas, ordenadas de forma lógica y que se utilizan para resolver un problema o para obtener un resultado.\n",
    "\n",
    "Existen en general tres tipos de algoritmos:\n",
    "\n",
    "🔵 <font color=#073ab0>**Algoritmos matemáticos** </font>\n",
    "\n",
    "Ejemplo:\n",
    "\n",
    "$$\n",
    "x = \\frac{-b \\pm \\sqrt{b² - 4ac}}{2a}\n",
    "$$\n",
    "\n",
    " 🔵 <font color=#073ab0>**Algoritmos informales**</font>\n",
    "\n",
    "Ejemplo: \n",
    "\n",
    "<img src=\"https://i.ibb.co/dMTNFBH/449118dff81fe423fe8d00d6eba10a32.png\" width=200 height=200 alt=\"449118dff81fe423fe8d00d6eba10a32\" border=\"0\">\n",
    "\n",
    "\n",
    "🔵 <font color=#073ab0>**Algoritmos computacionales**</font>\n",
    "\n",
    "## ¿Cómo funciona un algortimo computacional?\n",
    "\n",
    "<img src=\"https://i.ibb.co/xhCcLbz/algoritmo.png\" width=\"400\" height=\"600\" alt=\"algoritmo\" border=\"0\">\n",
    "\n",
    "**Características de un algoritmo computacional**\n",
    " \n",
    "* <font color=blue>**Ordenado**</font>: Ejecución lógica\n",
    "* <font color=blue>**Finito**</font>: Todo algoritmo posee un inicio y fin.\n",
    "* <font color=blue>**Definido**</font>: Reproducible\n",
    "\n",
    "\n",
    "## Diseñar un algoritmo\n",
    "Plantear una serie de instrucciones (que le vas a pasar a alguien) para resolver una tarea/problema.\n",
    "\n",
    "## Representación de un algoritmo\n",
    "\n",
    "* Descripción narrada\n",
    "* Diagramas de flujo\n",
    "* Pseudocódigo\n",
    "\n",
    "**Ejemplo**: \n",
    "\n",
    "Crear un algoritmo que calcule el área de un círculo. \n",
    "\n",
    "$$\n",
    "A = \\pi \\cdot r^2\n",
    "$$\n",
    "\n",
    "**Preguntas clave**\n",
    "\n",
    "1. ¿Cuál es el input/datos de entrada?\n",
    "2. ¿Cuál es el output/datos de salida?\n",
    "\n",
    "\n",
    "### Descripción narrada\n",
    "Es como una ***to-do list***, que vamos a dar a alguien más para que pueda resolver el problema\n",
    "\n",
    "*Inicio del algoritmo*\n",
    "\n",
    "1. Definir variable ‘radio’ como real\n",
    "2. Pedir el valor del ‘radio’\n",
    "3. Llevar a cabo operación\n",
    "4. Guardar resultado de operación en variable de ‘area’.\n",
    "5. Imprimir ‘area’.\n",
    "\n",
    "*Fin de algoritmo*\n"
   ]
  },
  {
   "cell_type": "markdown",
   "id": "24cccbba",
   "metadata": {},
   "source": [
    "### Diagrama de flujo\n",
    "Se lleva a cabo un diagrama de flujo sobre las acciones que llevará a cabo el algoritmo.\n",
    "\n",
    "<a href=\"https://ibb.co/cN9GRr8\"><img src=\"https://i.ibb.co/NLq8fyN/diagrama-flujo.png\" height=\"200\" width=\"300\" alt=\"diagrama-flujo\" border=\"0\"></a>"
   ]
  },
  {
   "cell_type": "markdown",
   "id": "a2a15e6f",
   "metadata": {},
   "source": [
    "<div class=\"alert alert-info\">\n",
    "    \n",
    "🤓 Para saber más sobre el uso de los diagramas para representar un algoritmo consultar el capítulo 1.7 Algoritmo del libro *Introducción a  la lógica de programación* (clic [aquí](https://github.com/Nayeli-Luis/minicurso-python-2023/blob/main/Introducci%C3%B3n-a-la-L%C3%B3gica-de-Programaci%C3%B3n.pdf) para consultar). </div>\n",
    "\n",
    "    "
   ]
  },
  {
   "cell_type": "markdown",
   "id": "a8e4f1cd",
   "metadata": {},
   "source": [
    "### Pseudocódigo\n",
    "\n",
    "Se expresan los pasos que va a ejecutar un programa pero con un lenguaje similar al de los humanos. \n",
    "\n",
    "    Algoritmo area_circulo\n",
    "        Definir radio Como Real\n",
    "        Escribir \"Ingresa el radio del círculo: \"\n",
    "        Leer radio\n",
    "        area = 3.1416 * (radio ^ 2)\n",
    "        Imprimir area\n",
    "    FinAlgoritmo\n",
    "    \n",
    "### De pseudocódigo a código (`Python`)"
   ]
  },
  {
   "cell_type": "code",
   "execution_count": null,
   "id": "c3724a54",
   "metadata": {},
   "outputs": [],
   "source": []
  }
 ],
 "metadata": {
  "kernelspec": {
   "display_name": "Python 3 (ipykernel)",
   "language": "python",
   "name": "python3"
  },
  "language_info": {
   "codemirror_mode": {
    "name": "ipython",
    "version": 3
   },
   "file_extension": ".py",
   "mimetype": "text/x-python",
   "name": "python",
   "nbconvert_exporter": "python",
   "pygments_lexer": "ipython3",
   "version": "3.11.4"
  },
  "varInspector": {
   "cols": {
    "lenName": 16,
    "lenType": 16,
    "lenVar": 40
   },
   "kernels_config": {
    "python": {
     "delete_cmd_postfix": "",
     "delete_cmd_prefix": "del ",
     "library": "var_list.py",
     "varRefreshCmd": "print(var_dic_list())"
    },
    "r": {
     "delete_cmd_postfix": ") ",
     "delete_cmd_prefix": "rm(",
     "library": "var_list.r",
     "varRefreshCmd": "cat(var_dic_list()) "
    }
   },
   "types_to_exclude": [
    "module",
    "function",
    "builtin_function_or_method",
    "instance",
    "_Feature"
   ],
   "window_display": false
  }
 },
 "nbformat": 4,
 "nbformat_minor": 5
}
