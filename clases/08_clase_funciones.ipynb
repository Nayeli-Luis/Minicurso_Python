{
 "cells": [
  {
   "cell_type": "markdown",
   "id": "751c3a9f",
   "metadata": {},
   "source": [
    "#### Curso: Fundamentos de programación con `Python`\n",
    "#### Genómica computacional, Facultad de Ciencias UNAM\n",
    "#### Nayeli Luis"
   ]
  },
  {
   "cell_type": "markdown",
   "id": "33723b66",
   "metadata": {
    "id": "33723b66"
   },
   "source": [
    "# Funciones\n",
    "\n",
    "**Concepto de función**: Es un bloque de código que puede llevar a cabo una tarea en específico y que puede ser reutilizado a lo largo de un programa. Permiten que el código sea modular. \n",
    "\n",
    "<a href=\"https://datascientest.com/es/wp-content/uploads/sites/7/2022/06/ejemplo_fonciones-1-1024x690.png\"><img src=\"https://datascientest.com/es/wp-content/uploads/sites/7/2022/06/ejemplo_fonciones-1-1024x690.png\" height=150 width=500 alt=\"ejemplo-fonciones-1-1024x690\" border=\"0\"></a>\n",
    "\n",
    "Las funciones están compuestas de **parámetros** y **argumentos**. \n",
    "\n",
    "* **Parámetro**: Variable que se definió durante la construcción de una función. Es la información que la función requiere para poder trabajar. \n",
    "\n",
    "* **Argumento**: Es el valor que se para a un parámetro para llevar a cabo un procedimiento.\n",
    "\n",
    "Entonces, una función se estructura de la siguiente forma: \n",
    "\n",
    "```python\n",
    "nombre_funcion(parametro1 = argumento1)\n",
    "```\n",
    "\n",
    "## Comprendiendo mejor las funciones *built-in*\n",
    "\n",
    "Para esto vamos a auxiliarnos de una función llamada `help()`, la cual recibe el nombre de una función para darnos información sobre la misma. Por ejemplo: "
   ]
  },
  {
   "cell_type": "code",
   "execution_count": null,
   "id": "b09368d2",
   "metadata": {
    "id": "b09368d2",
    "outputId": "1776db7a-1872-40f6-8c0f-1d7dd087adb5",
    "scrolled": true
   },
   "outputs": [],
   "source": [
    "help(round)"
   ]
  },
  {
   "cell_type": "markdown",
   "id": "2005cbaf",
   "metadata": {
    "id": "2005cbaf"
   },
   "source": [
    "Cuando utilizamos una función, nosotros damos los argumentos a los parámetros. Por ejemplo, si deseamos redondear el número de $\\pi$ (3.1415926535) a sólo 4 decimales, entonces $\\pi$ es el argumento para el parámetro1 (`number`) y 4 es el argumento para el parámetro2 (`ndigits`). De manera que escribiriamos lo siguiente: "
   ]
  },
  {
   "cell_type": "code",
   "execution_count": null,
   "id": "e929f29f",
   "metadata": {
    "id": "e929f29f",
    "outputId": "706e6531-b6c4-4549-9a0b-7cd9014deef2",
    "scrolled": true
   },
   "outputs": [],
   "source": [
    "# Definir variables con los argumentos:\n",
    "\n",
    "# Argumento 1\n",
    "numero = 3.14159265358979323846264338327950288419716939937\n",
    "\n",
    "# Argumento 2\n",
    "\n",
    "\n",
    "# Resultado\n"
   ]
  },
  {
   "cell_type": "markdown",
   "id": "beff855f",
   "metadata": {
    "id": "beff855f"
   },
   "source": [
    "En general podemos omitir el nombre del parámetro y escribir directamente los argumentos: "
   ]
  },
  {
   "cell_type": "code",
   "execution_count": null,
   "id": "01f82618",
   "metadata": {
    "id": "01f82618",
    "outputId": "653986dc-bcb8-45aa-8f7a-13f3a7697765"
   },
   "outputs": [],
   "source": []
  },
  {
   "cell_type": "markdown",
   "id": "a69d5bd8",
   "metadata": {
    "id": "a69d5bd8"
   },
   "source": [
    "## Definir nuestras propias funciones\n",
    "\n",
    "Python nos da la opción de definir nuestras propias funciones con la siguiente sintaxis: \n",
    "\n",
    "Sintaxis en pseudocódigo:\n",
    "```\n",
    "Funcion nombre_funcion(parametro1, parametro2)\n",
    "    Código de la función\n",
    "Fin Funcion\n",
    "```\n",
    "\n",
    "Sintaxis en Python: \n",
    "\n",
    "```python\n",
    "def nombre_funcion (parametro1, parametro2):\n",
    "    Código de la función\n",
    "    return\n",
    "```\n",
    "\n",
    "`return`: Es una palabra reservada que se utiliza dentro de una función que indica que se va a regresar un resultado gracias al código que hay dentro de la función. Éste resultado puede ser una variable, un dato, cualquier objeto de Python, un `print()`, etc. \n",
    "\n",
    "### Variables globales y locales\n",
    "\n",
    "* **Variable global**: Es una variable que está disponible en **todo** el algoritmo que escribamos. \n",
    "* **Variable local**: Es una variable que está disponible solo en una función.\n",
    "\n",
    "\n",
    "### Analizando los componentes de una función creada \n",
    "\n",
    "Función `generar_secuencia()`, ésta función genera una secuencia aleatoria de DNA."
   ]
  },
  {
   "cell_type": "code",
   "execution_count": null,
   "id": "86ea97a7",
   "metadata": {
    "id": "86ea97a7",
    "outputId": "d4868c3e-3977-4eb9-bc3c-535f0b792e14"
   },
   "outputs": [],
   "source": [
    "import random\n",
    "\n",
    "# Generar función\n",
    "def generar_secuencia(tamaño = int(), codigo = \"CGTA\"):\n",
    "    secuencia_dna =  ''.join(random.choices(codigo, k = tamaño))\n",
    "    return secuencia_dna\n",
    "\n",
    "# Llamar función\n",
    "dna = generar_secuencia(300)\n",
    "dna"
   ]
  },
  {
   "cell_type": "markdown",
   "id": "e7005810",
   "metadata": {
    "id": "e7005810"
   },
   "source": [
    "* Ésta función se llama `generar_secuencia`.\n",
    "* Tiene dos parámetros: `tamaño` y `codigo`\n",
    "* El argumento para `tamaño` debe ser un entero y el argumento para `codigo` está predeterminado y es una cadena de caracteres (\"ATCG\") que son los nucleótidos que debe tener una secuencia de DNA. \n",
    "* Tiene una variable local llamada `secuencia_dna` que guarda la secuencia que se genere con un código.\n",
    "* El código involucra funciones de un módulo\n",
    "* La función regresa como resultado una secuencia de DNA.\n",
    "* Tiene una variable global llamada `dna` que guarda la secuencia generada por la función"
   ]
  },
  {
   "cell_type": "markdown",
   "id": "84f3bb92",
   "metadata": {
    "id": "84f3bb92"
   },
   "source": [
    "### Ejercicio 1\n",
    "\n",
    "Convertir el programa para calcular el área de un círculo en una función. "
   ]
  },
  {
   "cell_type": "code",
   "execution_count": null,
   "id": "fee69f2e",
   "metadata": {
    "id": "fee69f2e",
    "outputId": "9097dc1c-5eae-4778-9359-c631aebace51"
   },
   "outputs": [],
   "source": [
    "# Programa original\n",
    "radio = float(input(\"Ingresa el radio del círculo: \"))\n",
    "area = 3.1416 * (radio ** 2)\n",
    "print(f\"Un círculo con radio {radio} tiene como área {area}.\")"
   ]
  },
  {
   "cell_type": "code",
   "execution_count": null,
   "id": "347e9e42",
   "metadata": {
    "id": "347e9e42",
    "outputId": "f6955ee4-9ecf-4625-fa0b-1913708cf2f9",
    "scrolled": true
   },
   "outputs": [],
   "source": [
    "# Solución\n"
   ]
  },
  {
   "cell_type": "markdown",
   "id": "ebecbece",
   "metadata": {
    "id": "ebecbece"
   },
   "source": [
    "Podemos dar un `help()` a nuestra nueva función y aparecerán los comentarios que agregamos."
   ]
  },
  {
   "cell_type": "code",
   "execution_count": null,
   "id": "cbd94654",
   "metadata": {
    "id": "cbd94654",
    "outputId": "7a05b0d4-c98c-4eef-f73e-936e40582057"
   },
   "outputs": [],
   "source": []
  }
 ],
 "metadata": {
  "colab": {
   "name": "07_funciones.ipynb",
   "provenance": []
  },
  "kernelspec": {
   "display_name": "Python 3 (ipykernel)",
   "language": "python",
   "name": "python3"
  },
  "language_info": {
   "codemirror_mode": {
    "name": "ipython",
    "version": 3
   },
   "file_extension": ".py",
   "mimetype": "text/x-python",
   "name": "python",
   "nbconvert_exporter": "python",
   "pygments_lexer": "ipython3",
   "version": "3.9.15"
  },
  "varInspector": {
   "cols": {
    "lenName": 16,
    "lenType": 16,
    "lenVar": 40
   },
   "kernels_config": {
    "python": {
     "delete_cmd_postfix": "",
     "delete_cmd_prefix": "del ",
     "library": "var_list.py",
     "varRefreshCmd": "print(var_dic_list())"
    },
    "r": {
     "delete_cmd_postfix": ") ",
     "delete_cmd_prefix": "rm(",
     "library": "var_list.r",
     "varRefreshCmd": "cat(var_dic_list()) "
    }
   },
   "types_to_exclude": [
    "module",
    "function",
    "builtin_function_or_method",
    "instance",
    "_Feature"
   ],
   "window_display": false
  }
 },
 "nbformat": 4,
 "nbformat_minor": 5
}
