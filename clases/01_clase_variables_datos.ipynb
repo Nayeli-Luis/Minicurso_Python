{
 "cells": [
  {
   "cell_type": "markdown",
   "id": "8fbb5296",
   "metadata": {
    "id": "8fbb5296"
   },
   "source": [
    "#### Curso: Fundamentos de programación de `Python`\n",
    "#### Genómica computacional, Facultad de Ciencias UNAM\n",
    "#### Nayeli Luis\n"
   ]
  },
  {
   "cell_type": "markdown",
   "id": "6bee15e5",
   "metadata": {},
   "source": [
    "# Datos y variables"
   ]
  },
  {
   "cell_type": "markdown",
   "id": "b6205266",
   "metadata": {},
   "source": [
    "## Dato\n",
    "\n",
    "Un dato es una representación simbólica (un número, letra, una palabra, etc.) de una característica de un elemento.\n",
    "\n",
    "### Tipos de datos\n",
    "\n",
    "1. **Datos numéricos**: Dos tipos: enteros (`int`) y con decimales (`float`).\n",
    "2. **Datos alfanuméricos**: También conocidos como cadenas de caracteres o strings (`str`). \n",
    "3. **Datos lógicos**: También conocidos como datos booleanos (`bool`).\n",
    "\n",
    "<img src=\"https://i.ibb.co/hZ25NpJ/tipo-datos.png\" alt=\"tipo-datos\" border=\"0\" />\n"
   ]
  },
  {
   "cell_type": "markdown",
   "id": "46494ba2",
   "metadata": {},
   "source": [
    "## Variable\n",
    "\n",
    "Es una posición o espacio de memoria en el cual se almacena un dato.Su valor puede cambiar en cualquier momento de la ejecución de un programa.\n",
    "\n",
    "Al trabajar con variables se debe considerar lo siguiente:\n",
    "\n",
    "1. Las variables almacenan datos.\n",
    "2. Tipo de dato\n",
    "3. Deben tener un nombre o identificador único\n",
    "\n",
    "### Buenas prácticas para nombrar variables\n",
    "\n",
    "* El primer elemento debe ser una letra.\n",
    "\n",
    "* No dejar espacios en blanco.\n",
    "\n",
    "```python\n",
    "\n",
    "nombre_variable = dato\n",
    "```\n",
    "\n",
    "* Se puede colocar guión bajo (_) o combinar mayúsculas y minúsculas si queremos poner dos palabras. Ejemplo: \n",
    "\n",
    "```python\n",
    "\n",
    "dos_palabras # Método de la serpiente\n",
    "\n",
    "dosPalabras # Método del camello\n",
    "\n",
    "```\n",
    "\n",
    "* El nombre debe ser descriptivo.\n",
    "\n",
    "* No utilizar palabras reservadas del mismo lenguaje de programación. Ejemplo: \n",
    "\n",
    "```python\n",
    "int # Es una palabra reservada para enteros en Python\n",
    "\n",
    "# Esto no se hace\n",
    "int = 34\n",
    "```\n",
    "\n",
    "Notas. \n",
    "\n",
    "## Datos numéricos"
   ]
  },
  {
   "cell_type": "code",
   "execution_count": null,
   "id": "3c2d79b5",
   "metadata": {
    "colab": {
     "base_uri": "https://localhost:8080/"
    },
    "executionInfo": {
     "elapsed": 91,
     "status": "ok",
     "timestamp": 1647490164306,
     "user": {
      "displayName": "Kenya Contreras",
      "photoUrl": "https://lh3.googleusercontent.com/a/default-user=s64",
      "userId": "00618866946098762567"
     },
     "user_tz": 360
    },
    "id": "3c2d79b5",
    "outputId": "bfd18388-69c3-44be-bd80-33237dd5e028"
   },
   "outputs": [],
   "source": [
    "# Datos numéricos\n",
    "# Entero\n",
    "\n",
    "\n",
    "# Con decimal / flotante\n",
    "\n"
   ]
  },
  {
   "cell_type": "code",
   "execution_count": null,
   "id": "aec354d4",
   "metadata": {},
   "outputs": [],
   "source": [
    "# Función print()\n"
   ]
  },
  {
   "cell_type": "code",
   "execution_count": null,
   "id": "0be929e4",
   "metadata": {},
   "outputs": [],
   "source": [
    "# Funcion type(): tipo de dato contenido en una variable\n",
    "\n",
    "\n",
    "# Particularidad\n"
   ]
  },
  {
   "cell_type": "code",
   "execution_count": null,
   "id": "52fffee5",
   "metadata": {},
   "outputs": [],
   "source": [
    "# Errores: No se dejan espacios entre \n",
    "# palabras al nombrar una variable\n"
   ]
  },
  {
   "cell_type": "code",
   "execution_count": null,
   "id": "af264e73",
   "metadata": {
    "scrolled": true
   },
   "outputs": [],
   "source": [
    "# Variable que no existe\n"
   ]
  },
  {
   "cell_type": "markdown",
   "id": "3e3ee31b",
   "metadata": {},
   "source": [
    "## Datos alfanuméricos"
   ]
  },
  {
   "cell_type": "code",
   "execution_count": null,
   "id": "3024b5b0",
   "metadata": {
    "colab": {
     "base_uri": "https://localhost:8080/"
    },
    "executionInfo": {
     "elapsed": 75,
     "status": "ok",
     "timestamp": 1647490164313,
     "user": {
      "displayName": "Kenya Contreras",
      "photoUrl": "https://lh3.googleusercontent.com/a/default-user=s64",
      "userId": "00618866946098762567"
     },
     "user_tz": 360
    },
    "id": "3024b5b0",
    "outputId": "82453490-2b63-42eb-be64-4119c1926f2d"
   },
   "outputs": [],
   "source": [
    "# Datos alfanuméricos o cadenas o strings\n"
   ]
  },
  {
   "cell_type": "code",
   "execution_count": null,
   "id": "45860acf",
   "metadata": {},
   "outputs": [],
   "source": [
    "# Diferencia entre mayusculas y minusculas\n",
    "nombre = \"ABCD\"\n",
    "nombre2 = \"abcd\"\n"
   ]
  },
  {
   "cell_type": "code",
   "execution_count": null,
   "id": "b3d6ce9c",
   "metadata": {
    "colab": {
     "base_uri": "https://localhost:8080/",
     "height": 0
    },
    "executionInfo": {
     "elapsed": 70,
     "status": "ok",
     "timestamp": 1647490164573,
     "user": {
      "displayName": "Kenya Contreras",
      "photoUrl": "https://lh3.googleusercontent.com/a/default-user=s64",
      "userId": "00618866946098762567"
     },
     "user_tz": 360
    },
    "id": "b3d6ce9c",
    "outputId": "2f642164-c665-4a3b-f3d5-1040f680079a",
    "scrolled": true
   },
   "outputs": [],
   "source": [
    "# Concatenar/ unir cadenas: el espacio es un caracter\n"
   ]
  },
  {
   "cell_type": "markdown",
   "id": "09fb9092",
   "metadata": {},
   "source": [
    "<div class='alert alert-info'>\n",
    "  🔬🧵 En términos de genómica computacional, el DNA ¿Qué tipo de dato es?.\n",
    "</div>\n",
    "\n"
   ]
  },
  {
   "cell_type": "code",
   "execution_count": null,
   "id": "256958f6",
   "metadata": {
    "colab": {
     "base_uri": "https://localhost:8080/"
    },
    "executionInfo": {
     "elapsed": 68,
     "status": "ok",
     "timestamp": 1647490164578,
     "user": {
      "displayName": "Kenya Contreras",
      "photoUrl": "https://lh3.googleusercontent.com/a/default-user=s64",
      "userId": "00618866946098762567"
     },
     "user_tz": 360
    },
    "id": "256958f6",
    "outputId": "47c44221-fe30-4ede-ffe2-cdbe4a533efa"
   },
   "outputs": [],
   "source": [
    "dna = \"CACTGGGGCGGAGGAGGTGGCAGCTGCCACGAGGCAGGCTGGACCTTTTGAGGGTTGTGGGTGGTTCCCTAGAGCTTTGTCTCTCCT\""
   ]
  },
  {
   "cell_type": "markdown",
   "id": "377a8aa2",
   "metadata": {
    "id": "377a8aa2"
   },
   "source": [
    "### Indexado (*indexing*) y rebanado (*slicing*)\n",
    "Python **indexa** cada elemento de una string, lista, tupla o serie. Indexar consiste en asignar un número a cada posición de cada elemento. \n",
    "\n",
    "<img src=\"https://i.ibb.co/KKM3JsZ/slicing.png\" alt=\"slicing\" border=\"0\">"
   ]
  },
  {
   "cell_type": "markdown",
   "id": "9e5023ed",
   "metadata": {
    "id": "9e5023ed"
   },
   "source": [
    "El ***slicing*** (rebanado) consiste en tomar solo algunos de los elementos de un objeto."
   ]
  },
  {
   "cell_type": "code",
   "execution_count": null,
   "id": "d70ea819",
   "metadata": {
    "colab": {
     "base_uri": "https://localhost:8080/"
    },
    "executionInfo": {
     "elapsed": 68,
     "status": "ok",
     "timestamp": 1647490164575,
     "user": {
      "displayName": "Kenya Contreras",
      "photoUrl": "https://lh3.googleusercontent.com/a/default-user=s64",
      "userId": "00618866946098762567"
     },
     "user_tz": 360
    },
    "id": "d70ea819",
    "outputId": "a6232c00-2164-4344-b9f8-7bed542e1607"
   },
   "outputs": [],
   "source": [
    "# Crear variable"
   ]
  },
  {
   "cell_type": "code",
   "execution_count": null,
   "id": "234448cd",
   "metadata": {},
   "outputs": [],
   "source": [
    "# Obtener desde elemento 1 al 3\n"
   ]
  },
  {
   "cell_type": "code",
   "execution_count": null,
   "id": "e22a715c",
   "metadata": {},
   "outputs": [],
   "source": [
    "# Utilizar indexado negativo\n"
   ]
  },
  {
   "cell_type": "code",
   "execution_count": null,
   "id": "6811f18f",
   "metadata": {},
   "outputs": [],
   "source": [
    "# Extrae el primero codon de una cadena de dna\n",
    "dna = \"CACTGGGGCGGAGGAGGTGGCAGCTGCCACGAGGCAGGCTGGACCTTTTGAGGGTTGTGGGTGGTTCCCTAGAGCTTTGTCTCTCCT\"\n"
   ]
  },
  {
   "cell_type": "code",
   "execution_count": null,
   "id": "38da8dc9",
   "metadata": {},
   "outputs": [],
   "source": [
    "# Obtener el último codon\n"
   ]
  },
  {
   "cell_type": "code",
   "execution_count": null,
   "id": "910709be",
   "metadata": {},
   "outputs": [],
   "source": [
    "# Obtener todo excepto las ultimas 5 letras\n"
   ]
  },
  {
   "cell_type": "code",
   "execution_count": null,
   "id": "6c96fb39",
   "metadata": {},
   "outputs": [],
   "source": [
    "# Obtener las ultimas 5 letras\n"
   ]
  },
  {
   "cell_type": "markdown",
   "id": "02e2fc4f",
   "metadata": {
    "id": "02e2fc4f"
   },
   "source": [
    "#### Dar formato a cadenas de caracteres. \n",
    "Hace referencia a cuando se desea construir una frase utilizando alguna variable existente. Por ejemplo: "
   ]
  },
  {
   "cell_type": "code",
   "execution_count": null,
   "id": "70abf200",
   "metadata": {
    "colab": {
     "base_uri": "https://localhost:8080/"
    },
    "executionInfo": {
     "elapsed": 67,
     "status": "ok",
     "timestamp": 1647490164580,
     "user": {
      "displayName": "Kenya Contreras",
      "photoUrl": "https://lh3.googleusercontent.com/a/default-user=s64",
      "userId": "00618866946098762567"
     },
     "user_tz": 360
    },
    "id": "70abf200",
    "outputId": "840eacbe-cffb-428b-808f-551d7a7d19cc"
   },
   "outputs": [],
   "source": [
    "# opción 1\n"
   ]
  },
  {
   "cell_type": "code",
   "execution_count": null,
   "id": "ab622f43",
   "metadata": {
    "colab": {
     "base_uri": "https://localhost:8080/",
     "height": 0
    },
    "executionInfo": {
     "elapsed": 66,
     "status": "ok",
     "timestamp": 1647490164583,
     "user": {
      "displayName": "Kenya Contreras",
      "photoUrl": "https://lh3.googleusercontent.com/a/default-user=s64",
      "userId": "00618866946098762567"
     },
     "user_tz": 360
    },
    "id": "ab622f43",
    "outputId": "5cb058c2-dcbf-402c-ee67-4797d36c3491"
   },
   "outputs": [],
   "source": [
    "# opción 2\n"
   ]
  },
  {
   "cell_type": "code",
   "execution_count": null,
   "id": "cde226e0",
   "metadata": {
    "colab": {
     "base_uri": "https://localhost:8080/",
     "height": 0
    },
    "executionInfo": {
     "elapsed": 66,
     "status": "ok",
     "timestamp": 1647490164585,
     "user": {
      "displayName": "Kenya Contreras",
      "photoUrl": "https://lh3.googleusercontent.com/a/default-user=s64",
      "userId": "00618866946098762567"
     },
     "user_tz": 360
    },
    "id": "cde226e0",
    "outputId": "de698058-c915-44fe-dfb7-b06d4609bf28",
    "scrolled": true
   },
   "outputs": [],
   "source": [
    "# Ingresar más de una variable\n",
    "# variable dna y codon1\n"
   ]
  },
  {
   "cell_type": "markdown",
   "id": "de044f5a",
   "metadata": {},
   "source": [
    "## Métodos de cadenas de caracteres"
   ]
  },
  {
   "cell_type": "markdown",
   "id": "c77aee68",
   "metadata": {
    "id": "c77aee68"
   },
   "source": [
    "* `lower()`: Convierte la cadena de carácteres en minúsculas."
   ]
  },
  {
   "cell_type": "code",
   "execution_count": null,
   "id": "78a05609",
   "metadata": {
    "colab": {
     "base_uri": "https://localhost:8080/",
     "height": 0
    },
    "executionInfo": {
     "elapsed": 64,
     "status": "ok",
     "timestamp": 1647490164586,
     "user": {
      "displayName": "Kenya Contreras",
      "photoUrl": "https://lh3.googleusercontent.com/a/default-user=s64",
      "userId": "00618866946098762567"
     },
     "user_tz": 360
    },
    "id": "78a05609",
    "outputId": "ffea086d-40ad-44c3-8e17-0fb29b4f82cb"
   },
   "outputs": [],
   "source": []
  },
  {
   "cell_type": "markdown",
   "id": "1c66dacc",
   "metadata": {
    "id": "1c66dacc"
   },
   "source": [
    "* `upper()`: Convierte la cadena de carácteres en mayúsculas."
   ]
  },
  {
   "cell_type": "code",
   "execution_count": null,
   "id": "3feae65a",
   "metadata": {
    "colab": {
     "base_uri": "https://localhost:8080/",
     "height": 0
    },
    "executionInfo": {
     "elapsed": 63,
     "status": "ok",
     "timestamp": 1647490164588,
     "user": {
      "displayName": "Kenya Contreras",
      "photoUrl": "https://lh3.googleusercontent.com/a/default-user=s64",
      "userId": "00618866946098762567"
     },
     "user_tz": 360
    },
    "id": "3feae65a",
    "outputId": "bbeae28a-3a13-46b3-cc1e-91d16f9a861a"
   },
   "outputs": [],
   "source": []
  },
  {
   "cell_type": "markdown",
   "id": "707e4b2e",
   "metadata": {
    "id": "707e4b2e"
   },
   "source": [
    "* `capitalize()`: Convierte el primer carácter en mayúscula y lo demás en minúscula. "
   ]
  },
  {
   "cell_type": "code",
   "execution_count": null,
   "id": "6381cb41",
   "metadata": {
    "colab": {
     "base_uri": "https://localhost:8080/",
     "height": 0
    },
    "executionInfo": {
     "elapsed": 62,
     "status": "ok",
     "timestamp": 1647490164590,
     "user": {
      "displayName": "Kenya Contreras",
      "photoUrl": "https://lh3.googleusercontent.com/a/default-user=s64",
      "userId": "00618866946098762567"
     },
     "user_tz": 360
    },
    "id": "6381cb41",
    "outputId": "5f5e7933-e9e0-45ff-b01b-fd94a1e45062"
   },
   "outputs": [],
   "source": []
  },
  {
   "cell_type": "markdown",
   "id": "9f3f1fe2",
   "metadata": {
    "id": "9f3f1fe2"
   },
   "source": [
    "* `split()`: Divide la cadena de carácteres en función de un patrón. "
   ]
  },
  {
   "cell_type": "code",
   "execution_count": null,
   "id": "9a64d451",
   "metadata": {
    "colab": {
     "base_uri": "https://localhost:8080/"
    },
    "executionInfo": {
     "elapsed": 60,
     "status": "ok",
     "timestamp": 1647490164596,
     "user": {
      "displayName": "Kenya Contreras",
      "photoUrl": "https://lh3.googleusercontent.com/a/default-user=s64",
      "userId": "00618866946098762567"
     },
     "user_tz": 360
    },
    "id": "9a64d451",
    "outputId": "4f08e980-21b2-4bef-9606-1a826586033b"
   },
   "outputs": [],
   "source": []
  },
  {
   "cell_type": "markdown",
   "id": "4a82e831",
   "metadata": {
    "id": "4a82e831"
   },
   "source": [
    "* `find()`: Busca un patrón que es ingresado como argumento y regresa la posición del primero que encuentra. "
   ]
  },
  {
   "cell_type": "code",
   "execution_count": null,
   "id": "1f2ecbcd",
   "metadata": {
    "colab": {
     "base_uri": "https://localhost:8080/"
    },
    "executionInfo": {
     "elapsed": 59,
     "status": "ok",
     "timestamp": 1647490164597,
     "user": {
      "displayName": "Kenya Contreras",
      "photoUrl": "https://lh3.googleusercontent.com/a/default-user=s64",
      "userId": "00618866946098762567"
     },
     "user_tz": 360
    },
    "id": "1f2ecbcd",
    "outputId": "385b3a3a-9fe5-4afc-e1d7-d8816d2cd714"
   },
   "outputs": [],
   "source": [
    "\n",
    "\n",
    "# Si no encuentra el patron como resultado saldrá -1\n",
    "\n"
   ]
  },
  {
   "cell_type": "markdown",
   "id": "368e903e",
   "metadata": {
    "id": "368e903e"
   },
   "source": [
    "* `replace()`: Método para reemplazar un patrón por otro.\n",
    "\n",
    "Patrón = Expresión regular"
   ]
  },
  {
   "cell_type": "code",
   "execution_count": null,
   "id": "9416942e",
   "metadata": {
    "colab": {
     "base_uri": "https://localhost:8080/",
     "height": 0
    },
    "executionInfo": {
     "elapsed": 17,
     "status": "ok",
     "timestamp": 1647490164808,
     "user": {
      "displayName": "Kenya Contreras",
      "photoUrl": "https://lh3.googleusercontent.com/a/default-user=s64",
      "userId": "00618866946098762567"
     },
     "user_tz": 360
    },
    "id": "9416942e",
    "outputId": "abbfb5d1-47f1-4f41-9a38-0e9db7b3e7eb"
   },
   "outputs": [],
   "source": []
  },
  {
   "cell_type": "markdown",
   "id": "01a6c4c2",
   "metadata": {
    "id": "01a6c4c2"
   },
   "source": [
    "* `count()`: Cuenta el número de veces que aparece un patrón ingresado como argumento dentro del texto. \n"
   ]
  },
  {
   "cell_type": "code",
   "execution_count": null,
   "id": "b2af59e8",
   "metadata": {
    "colab": {
     "base_uri": "https://localhost:8080/"
    },
    "executionInfo": {
     "elapsed": 16,
     "status": "ok",
     "timestamp": 1647490164809,
     "user": {
      "displayName": "Kenya Contreras",
      "photoUrl": "https://lh3.googleusercontent.com/a/default-user=s64",
      "userId": "00618866946098762567"
     },
     "user_tz": 360
    },
    "id": "b2af59e8",
    "outputId": "186849f3-234e-4619-cd2b-70293a775137"
   },
   "outputs": [],
   "source": []
  },
  {
   "cell_type": "code",
   "execution_count": null,
   "id": "e94334ca",
   "metadata": {},
   "outputs": [],
   "source": [
    "# Funcion len: Nos otorga la longitud de una string, lista, etc. \n",
    "\n"
   ]
  },
  {
   "cell_type": "markdown",
   "id": "64ce2b64",
   "metadata": {
    "id": "64ce2b64"
   },
   "source": [
    "### Datos lógicos\n",
    "También conocidos como booleanos. Son datos que solo toman uno de dos posibles valores: `True/1` (verdadero) o `False/0` (falso). "
   ]
  },
  {
   "cell_type": "code",
   "execution_count": null,
   "id": "ead44d28",
   "metadata": {
    "colab": {
     "base_uri": "https://localhost:8080/"
    },
    "executionInfo": {
     "elapsed": 15,
     "status": "ok",
     "timestamp": 1647490164810,
     "user": {
      "displayName": "Kenya Contreras",
      "photoUrl": "https://lh3.googleusercontent.com/a/default-user=s64",
      "userId": "00618866946098762567"
     },
     "user_tz": 360
    },
    "id": "ead44d28",
    "outputId": "e1452ac7-580c-4a1e-b994-0be961a29cbf"
   },
   "outputs": [],
   "source": []
  },
  {
   "cell_type": "markdown",
   "id": "0dcb6707",
   "metadata": {
    "id": "0dcb6707"
   },
   "source": [
    "### Convertir datos"
   ]
  },
  {
   "cell_type": "code",
   "execution_count": null,
   "id": "a37e42e6",
   "metadata": {
    "colab": {
     "base_uri": "https://localhost:8080/"
    },
    "executionInfo": {
     "elapsed": 14,
     "status": "ok",
     "timestamp": 1647490164811,
     "user": {
      "displayName": "Kenya Contreras",
      "photoUrl": "https://lh3.googleusercontent.com/a/default-user=s64",
      "userId": "00618866946098762567"
     },
     "user_tz": 360
    },
    "id": "a37e42e6",
    "outputId": "ab7e07fa-22e1-4fa7-93e9-c2aaa276b810"
   },
   "outputs": [],
   "source": []
  }
 ],
 "metadata": {
  "colab": {
   "name": "01_variables_datos.ipynb",
   "provenance": []
  },
  "kernelspec": {
   "display_name": "Python 3 (ipykernel)",
   "language": "python",
   "name": "python3"
  },
  "language_info": {
   "codemirror_mode": {
    "name": "ipython",
    "version": 3
   },
   "file_extension": ".py",
   "mimetype": "text/x-python",
   "name": "python",
   "nbconvert_exporter": "python",
   "pygments_lexer": "ipython3",
   "version": "3.9.15"
  },
  "toc": {
   "base_numbering": 1,
   "nav_menu": {},
   "number_sections": true,
   "sideBar": true,
   "skip_h1_title": false,
   "title_cell": "Table of Contents",
   "title_sidebar": "Contents",
   "toc_cell": false,
   "toc_position": {
    "height": "calc(100% - 180px)",
    "left": "10px",
    "top": "150px",
    "width": "334.5px"
   },
   "toc_section_display": true,
   "toc_window_display": false
  },
  "varInspector": {
   "cols": {
    "lenName": 16,
    "lenType": 16,
    "lenVar": 40
   },
   "kernels_config": {
    "python": {
     "delete_cmd_postfix": "",
     "delete_cmd_prefix": "del ",
     "library": "var_list.py",
     "varRefreshCmd": "print(var_dic_list())"
    },
    "r": {
     "delete_cmd_postfix": ") ",
     "delete_cmd_prefix": "rm(",
     "library": "var_list.r",
     "varRefreshCmd": "cat(var_dic_list()) "
    }
   },
   "position": {
    "height": "216.832px",
    "left": "1150.52px",
    "right": "20px",
    "top": "120px",
    "width": "269.484px"
   },
   "types_to_exclude": [
    "module",
    "function",
    "builtin_function_or_method",
    "instance",
    "_Feature"
   ],
   "window_display": false
  }
 },
 "nbformat": 4,
 "nbformat_minor": 5
}
