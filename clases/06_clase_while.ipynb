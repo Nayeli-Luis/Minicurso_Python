{
 "cells": [
  {
   "cell_type": "markdown",
   "id": "016f95b8",
   "metadata": {},
   "source": [
    "#### Curso: Fundamentos de programación con `Python`\n",
    "#### Genómica computacional, Facultad de Ciencias UNAM\n",
    "#### Nayeli Luis, <nayeli.luis.vargas@gmail.com>\n",
    "\n",
    "\n",
    "\n",
    "\n"
   ]
  },
  {
   "cell_type": "code",
   "execution_count": 2,
   "id": "65adecad",
   "metadata": {},
   "outputs": [
    {
     "data": {
      "image/jpeg": "[encoded data removed]",
      "text/html": [
       "\n",
       "        <iframe\n",
       "            width=\"800\"\n",
       "            height=\"300\"\n",
       "            src=\"https://www.youtube.com/embed/4bMHdIbeUwM\"\n",
       "            frameborder=\"0\"\n",
       "            allowfullscreen\n",
       "            \n",
       "        ></iframe>\n",
       "        "
      ],
      "text/plain": [
       "<IPython.lib.display.YouTubeVideo at 0x7f453c5b8700>"
      ]
     },
     "execution_count": 2,
     "metadata": {},
     "output_type": "execute_result"
    }
   ],
   "source": [
    "from IPython.display import YouTubeVideo\n",
    "\n",
    "YouTubeVideo('4bMHdIbeUwM', width=800, height=300)"
   ]
  },
  {
   "cell_type": "markdown",
   "id": "ef9cfc4f",
   "metadata": {},
   "source": [
    "# Control de flujo iterativo o repetitivo: `while`\n",
    "\n",
    "<img src=\"https://i.ibb.co/T4kyKmS/control-flujo.jpg\" width=500 alt=\"control-flujo\" border=\"0\">"
   ]
  },
  {
   "cell_type": "markdown",
   "id": "cb244631",
   "metadata": {
    "id": "cb244631"
   },
   "source": [
    "`while` evalúa una expresión lógica, mientras el resultado de la expresión sea verdadero, se ejecutará el bloque de código que deseemos. \n",
    "\n",
    "Sintaxis en pseudocódigo: \n",
    "\n",
    "    Mientras expresión_logica\n",
    "      Ejecuta este código\n",
    "    Fin Mientras\n",
    "    \n",
    "Sintaxis en python: \n",
    "\n",
    "```python\n",
    "while expresion_lógica:\n",
    "    Ejecuta éste código\n",
    "```\n",
    "Dos opciones para usar `while`: \n",
    "\n",
    "* **Contador**: Una variable con un valor inicial cero, con cada iteración en `while` ésta variable se modifica\n",
    "incrementando su valor en 1. \n",
    "\n",
    "* **Evento**: Lo utilizamos cuando queremos que el código se ejecute hasta que ocurra un evento en específico \n",
    "(que se ingrese un caracter en específico).\n",
    "\n"
   ]
  },
  {
   "cell_type": "markdown",
   "id": "35a377b8",
   "metadata": {
    "id": "35a377b8"
   },
   "source": [
    "### `while` con contador\n",
    "\n",
    "Lo fácil:"
   ]
  },
  {
   "cell_type": "code",
   "execution_count": null,
   "id": "36ececf5",
   "metadata": {
    "id": "36ececf5",
    "outputId": "e2c0b0b9-ab24-46e6-9887-da87a34f818b"
   },
   "outputs": [],
   "source": []
  },
  {
   "cell_type": "code",
   "execution_count": null,
   "id": "cc0f75b9",
   "metadata": {
    "id": "cc0f75b9",
    "outputId": "40674f3c-e176-45c0-f7f7-6ea62b977288"
   },
   "outputs": [],
   "source": []
  },
  {
   "cell_type": "code",
   "execution_count": null,
   "id": "efdc6835",
   "metadata": {
    "id": "efdc6835",
    "outputId": "31f1f6c7-eb9a-480f-950e-352611400688"
   },
   "outputs": [],
   "source": []
  },
  {
   "cell_type": "markdown",
   "id": "8a0d1ddf",
   "metadata": {
    "id": "8a0d1ddf"
   },
   "source": [
    "### Ejemplo práctico\n",
    "\n",
    "Obtener cadena de DNA:"
   ]
  },
  {
   "cell_type": "code",
   "execution_count": null,
   "id": "c8dc4ce9",
   "metadata": {
    "colab": {
     "base_uri": "https://localhost:8080/",
     "height": 35
    },
    "id": "c8dc4ce9",
    "outputId": "1a0e4688-96dc-47f9-fab4-353968461c38",
    "scrolled": true
   },
   "outputs": [],
   "source": [
    "# Abrir un archivo fasta con python\n",
    "\n",
    "encabezado = ''\n",
    "secuencia = ''\n",
    "\n",
    "archivo = open(\"Kpneumoniae_gene.fna\", \"r\")\n",
    "for linea in archivo:\n",
    "    if linea[0] == \">\":\n",
    "        encabezado = linea.strip()\n",
    "    else: \n",
    "        secuencia += linea.strip()\n",
    "        \n",
    "print(encabezado)\n",
    "print(secuencia)"
   ]
  },
  {
   "cell_type": "markdown",
   "id": "fb5b6010",
   "metadata": {},
   "source": [
    "* Crear un programa que cuente cuántas veces aparece un patrón en una cadena de caracteres (cadena de DNA) sin utilizar la función `str.count().`\n",
    "\n",
    "**Pseudocódigo**:\n",
    "\n",
    "```\n",
    "Inicio de algoritmo\n",
    "    Imprimir secuencia\n",
    "    Definir pb como str\n",
    "    Escribir \"Elija una base para contar: \"\n",
    "    Leer pb\n",
    "    Imprimir \"Par de base elegida:\" ; pb \n",
    "    Imprimir \"Número de veces que aparece base en secuencia:\" ; Contar pb en sec\n",
    "    Definir contador = 0 \n",
    "    Definir indice = 0\n",
    "\n",
    "    Mientras indice < tamaño de secuencia:\n",
    "        Si pb == secuencia[indice]\n",
    "            contador = contador + 1\n",
    "        indice = indice + 1\n",
    "    FinMientras\n",
    "      \n",
    "    Imprimir contador\n",
    "    Imprimir indice\n",
    "\n",
    "Fin de algoritmo\n",
    "\n",
    "```"
   ]
  },
  {
   "cell_type": "code",
   "execution_count": null,
   "id": "926ce246",
   "metadata": {
    "id": "926ce246",
    "outputId": "14eaead4-5a10-4a41-bf29-409f0b14c7c1"
   },
   "outputs": [],
   "source": [
    "#Inicio de algoritmo\n",
    "#    Imprimir secuencia\n",
    "\n",
    "#    Definir pb como str\n",
    "#    Escribir \"Elija una base para contar: \"\n",
    "#    Leer pb\n",
    "\n",
    "\n",
    "#    Imprimir \"Par de base elegida:\" ; pb\n",
    "\n",
    "#    Imprimir \"Número de veces que aparece base en secuencia:\" ; Contar pb en sec\n",
    "\n",
    "#    Definir contador = 0\n",
    "\n",
    "#    Definir indice = 0\n",
    "\n",
    "#    Mientras indice < tamaño de secuencia:\n",
    "#        Si pb == secuencia[indice]\n",
    "#            contador = contador + 1\n",
    "#        indice = indice + 1\n",
    "#    FinMientras\n",
    "\n",
    "\n",
    "#    Imprimir contador\n",
    "#    Imprimir indice\n",
    "\n",
    "\n",
    "\n",
    "# Fin de algoritmo"
   ]
  },
  {
   "cell_type": "markdown",
   "id": "0213e6f8",
   "metadata": {
    "id": "0213e6f8"
   },
   "source": [
    "### `while` con evento\n",
    "* Programa que identifique si un codón ingresado se encuentra o no en una cadena de DNA.\n",
    "\n",
    "```\n",
    "Inicio de algoritmo\n",
    "    Definir codon como str\n",
    "    Escribir \"Ingrese un codón o ingrese alto para salir: \"\n",
    "    Leer codon\n",
    "    \n",
    "    Mientras codon != \"alto\"\n",
    "        Si codon en secuencia\n",
    "            Imprimir \"El codón elegido SI se ecuentra en la secuencia problema\"\n",
    "        SiNo\n",
    "            Imprimir \"El codón elegido NO se ecuentra en la secuencia problema\"\n",
    "        Definir codon como str\n",
    "        Escribir \"Ingrese un codón o ingrese alto para salir: \"\n",
    "        Leer codon\n",
    "    FinMientras\n",
    "    Imprimir \"Hasta pronto\"\n",
    "    \n",
    "```"
   ]
  },
  {
   "cell_type": "code",
   "execution_count": null,
   "id": "0ac5dfda",
   "metadata": {
    "id": "0ac5dfda",
    "outputId": "b7e37f83-2503-42f4-c14b-025a73958470",
    "scrolled": true
   },
   "outputs": [],
   "source": []
  }
 ],
 "metadata": {
  "colab": {
   "name": "06_while_for.ipynb",
   "provenance": []
  },
  "kernelspec": {
   "display_name": "Python 3 (ipykernel)",
   "language": "python",
   "name": "python3"
  },
  "language_info": {
   "codemirror_mode": {
    "name": "ipython",
    "version": 3
   },
   "file_extension": ".py",
   "mimetype": "text/x-python",
   "name": "python",
   "nbconvert_exporter": "python",
   "pygments_lexer": "ipython3",
   "version": "3.9.15"
  },
  "varInspector": {
   "cols": {
    "lenName": 16,
    "lenType": 16,
    "lenVar": 40
   },
   "kernels_config": {
    "python": {
     "delete_cmd_postfix": "",
     "delete_cmd_prefix": "del ",
     "library": "var_list.py",
     "varRefreshCmd": "print(var_dic_list())"
    },
    "r": {
     "delete_cmd_postfix": ") ",
     "delete_cmd_prefix": "rm(",
     "library": "var_list.r",
     "varRefreshCmd": "cat(var_dic_list()) "
    }
   },
   "types_to_exclude": [
    "module",
    "function",
    "builtin_function_or_method",
    "instance",
    "_Feature"
   ],
   "window_display": false
  }
 },
 "nbformat": 4,
 "nbformat_minor": 5
}
