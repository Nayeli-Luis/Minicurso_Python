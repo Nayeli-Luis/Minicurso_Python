{
 "cells": [
  {
   "cell_type": "markdown",
   "id": "5a10844a",
   "metadata": {
    "id": "5a10844a"
   },
   "source": [
    "#### Curso: Fundamentos de programación de `Python`\n",
    "#### Genómica computacional, Facultad de Ciencias UNAM\n",
    "#### Nayeli Luis, <nayeli.luis.vargas@gmail.com>\n",
    "\n",
    "\n",
    "# Operadores y expresiones\n",
    "\n",
    "## Diferencia entre operador y expresión\n",
    "\n",
    "Un <mark>**operador**</mark> es un símbolo que permite realizar una operación con los datos que se encuentren almacenados en la variables.  Existen cuatro tipos: \n",
    "\n",
    "* Aritméticos, \n",
    "* relacionales, \n",
    "* logicos y\n",
    "* especiales (dependen del lenguaje de programación).\n",
    "\n",
    "Una <mark>**expresión**</mark> es una instrucción que puede estar compuesta de operadores, variables, números y que generalmente produce un resultado, ya sea numérico o lógico. \n",
    "\n",
    "<img src=\"https://i.ibb.co/tH1PbNF/operador-aritmetico-expresion.png\" height=\"200\" width=\"300\" alt=\"operador-aritmetico-expresion\" border=\"0\">\n",
    "\n",
    "## Operadores aritméticos\n",
    "\n",
    "|    Símbolo    |   Significado     |\n",
    "| ------------ | ----------------|\n",
    "|        +      |        suma       |\n",
    "|        -      |       resta       |\n",
    "|        *      |  multiplicación   |\n",
    "|        /      |      división     |\n",
    "|       //      |      división entera     |\n",
    "|        %      | residuo o módulo  |\n",
    "|       **      |      potencia     |"
   ]
  },
  {
   "cell_type": "code",
   "execution_count": null,
   "id": "def8b44e",
   "metadata": {},
   "outputs": [],
   "source": [
    "# Se puede operar tal cual con el numero \n"
   ]
  },
  {
   "cell_type": "code",
   "execution_count": null,
   "id": "0c4f5f9a",
   "metadata": {},
   "outputs": [],
   "source": [
    "# O puedo guardar cada dato en una variable\n",
    "# e incluso guardar la respuesta en otra variable\n"
   ]
  },
  {
   "cell_type": "code",
   "execution_count": null,
   "id": "3caf05b2",
   "metadata": {
    "id": "3caf05b2",
    "outputId": "8cc1667b-11ed-4b35-91f0-ca5acc8035e6"
   },
   "outputs": [],
   "source": [
    "# Puedo pedir al usuario que ingrese un numero\n"
   ]
  },
  {
   "cell_type": "code",
   "execution_count": null,
   "id": "bff6a023",
   "metadata": {},
   "outputs": [],
   "source": [
    "# Operador division\n"
   ]
  },
  {
   "cell_type": "code",
   "execution_count": null,
   "id": "b5b96d57",
   "metadata": {
    "id": "b5b96d57",
    "outputId": "eee4a49c-6929-4466-ab6b-c4428b0fde73"
   },
   "outputs": [],
   "source": [
    "# operador modulo\n"
   ]
  },
  {
   "cell_type": "markdown",
   "id": "a5cad311",
   "metadata": {
    "id": "a5cad311"
   },
   "source": [
    "## Operadores relacionales\n",
    "\n",
    "Realizan **operaciones de comparación**, al utilizarlos en una expresión el \n",
    "**resultado** que arroja es de tipo **booleano** (`True` o `False`).\n",
    "\n",
    "\n",
    "|    Símbolo    |   Significado     |\n",
    "| :------------ | ----------------: |\n",
    "|        <      |    menor que      |\n",
    "|        >      |    mayor que      |\n",
    "|       <=      | menor o igual que |\n",
    "|       >=      | mayor o igual que |\n",
    "|       !=      |    diferente de   |\n",
    "|       ==      |      igual que    |"
   ]
  },
  {
   "cell_type": "code",
   "execution_count": null,
   "id": "e312bde7",
   "metadata": {
    "id": "e312bde7",
    "outputId": "fe345177-035e-4282-a83e-d4ff392eaf63"
   },
   "outputs": [],
   "source": [
    "# lo facil\n"
   ]
  },
  {
   "cell_type": "code",
   "execution_count": null,
   "id": "2530c6a7",
   "metadata": {
    "id": "2530c6a7",
    "outputId": "2e52b8f2-0dfb-455e-b253-eaf8af1a052a"
   },
   "outputs": [],
   "source": [
    "# También podemos utilizar éstos operadores con strings o listas. \n",
    "# Error: \n"
   ]
  },
  {
   "cell_type": "code",
   "execution_count": null,
   "id": "cac04080",
   "metadata": {
    "scrolled": true
   },
   "outputs": [],
   "source": [
    "# Comparar el tamaño de una string con algun valor\n",
    "\n",
    "\n",
    "print(f\"¿La cadena '{s}' tiene más de 13 caracteres?\")\n",
    "\n",
    "\n",
    "# Conocer el tamaño de la string\n"
   ]
  },
  {
   "cell_type": "code",
   "execution_count": null,
   "id": "47b63218",
   "metadata": {
    "id": "47b63218",
    "outputId": "57d260fd-433a-4c62-c7dd-19cf30243b8e"
   },
   "outputs": [],
   "source": [
    "# Definir variables que contengan cadenas de DNA\n",
    "dna1 = \"ATCTGATCGTATGCAGT\"\n",
    "dna2 = \"ATCTAGATACTGACTGA\"\n",
    "\n",
    "# Comparar el tamaño de las secuencias\n"
   ]
  },
  {
   "cell_type": "code",
   "execution_count": null,
   "id": "6aa45920",
   "metadata": {},
   "outputs": [],
   "source": [
    "# Compara en función del orden alfabético.\n"
   ]
  },
  {
   "cell_type": "code",
   "execution_count": null,
   "id": "0b616151",
   "metadata": {
    "id": "0b616151",
    "outputId": "5cbd6404-363e-47a2-e80e-f57c8acf3a20"
   },
   "outputs": [],
   "source": [
    "# Comparar si las secuencias son iguales\n"
   ]
  },
  {
   "cell_type": "markdown",
   "id": "7a16a336",
   "metadata": {
    "id": "7a16a336"
   },
   "source": [
    "Ejemplos con listas"
   ]
  },
  {
   "cell_type": "code",
   "execution_count": null,
   "id": "8dade8ad",
   "metadata": {
    "id": "8dade8ad",
    "outputId": "5f90deba-4b16-4ea1-daa4-6be015536db7"
   },
   "outputs": [],
   "source": [
    "# Crear listas\n",
    "lista1 = [1, 2, 3, 4, 5, 6, 7, 8, 9, 10]\n",
    "lista2 = [\"1\", \"2\",\"3\", \"4\", \"5\", \"6\", \"7\", \"8\", \"9\", \"10\"]\n",
    "\n",
    "# Comparar contenido de las listas\n"
   ]
  },
  {
   "cell_type": "markdown",
   "id": "d629971c",
   "metadata": {
    "id": "d629971c"
   },
   "source": [
    "## Operadores lógicos\n",
    "\n",
    "Al utilizarlos en una expresión el **resultado es lógico**. \n",
    "Son usados cuando queremos evaluar dos expresiones. Los operadores lógicos obeceden a las tablas de verdad.\n",
    "\n",
    "|    Símbolo    |   Significado     |\n",
    "| :------------ | ----------------: |\n",
    "|    and     |    conjunción     |\n",
    "|     or    |    disyunción     |\n",
    "|    not   |     negación      |\n"
   ]
  },
  {
   "cell_type": "markdown",
   "id": "3aae762a",
   "metadata": {
    "id": "3aae762a"
   },
   "source": [
    "### and\n",
    "Todas las expresiones evaluadas deben ser ciertas para que el resultado sea cierto. \n",
    "\n",
    "<img src=\"https://i.ibb.co/wK41jBp/tabla-and.jpg\" height=\"200\" width=\"300\" alt=\"tabla-and\" border=\"0\">\n",
    "\n",
    "Ejemplo:\n",
    "\n",
    "```python\n",
    "3 == 2 and 2 > 1\n",
    "```"
   ]
  },
  {
   "cell_type": "code",
   "execution_count": null,
   "id": "adddfbbb",
   "metadata": {
    "id": "adddfbbb",
    "outputId": "9085f55f-0f19-4036-dee2-49928f8ef001"
   },
   "outputs": [],
   "source": [
    "# definir variables\n",
    "valor1 = 34\n",
    "valor2 = 123\n",
    "valor3 = 34\n",
    "\n",
    "# realizar operación\n"
   ]
  },
  {
   "cell_type": "markdown",
   "id": "7d633076",
   "metadata": {
    "id": "7d633076"
   },
   "source": [
    "### or\n",
    "Sólo una de las expresiones debe ser cierta para que sea cierto.\n",
    "\n",
    "<img src=\"https://i.ibb.co/PCZFCj2/tabla-or.jpg\"  height=\"200\" width=\"300\" alt=\"tabla-or\" border=\"0\">\n",
    "\n",
    "Ejemplo:\n",
    "\n",
    "```python\n",
    "3 == 2 or 2 > 1\n",
    "\n",
    "```"
   ]
  },
  {
   "cell_type": "code",
   "execution_count": null,
   "id": "3debc2f5",
   "metadata": {
    "id": "3debc2f5",
    "outputId": "a3f012b3-f3d7-4f9e-ff26-20a413e9d00d"
   },
   "outputs": [],
   "source": [
    "# definir variables\n",
    "gen1 = 'ATGACTGATCGAT'\n",
    "gen2 = 'ATGACTAGTATAT'\n",
    "gen3 = 'TATATATATATA'\n",
    "\n",
    "# realizar operacion\n"
   ]
  },
  {
   "cell_type": "markdown",
   "id": "e1eed41e",
   "metadata": {},
   "source": [
    "#### Particularidades de las comparaciones con strings."
   ]
  },
  {
   "cell_type": "code",
   "execution_count": null,
   "id": "7aec06cb",
   "metadata": {},
   "outputs": [],
   "source": [
    "# En strings también es posible utilizar operadores relacionales. \n"
   ]
  },
  {
   "cell_type": "code",
   "execution_count": null,
   "id": "69a108ea",
   "metadata": {},
   "outputs": [],
   "source": [
    "if gen1 < gen2: \n",
    "    print(\"Algún caracter de gen1 se ecuentra antes que algún caracter de gen2.\")\n",
    "elif gen1 > gen2: \n",
    "    print(\"Algún caracter de gen1 se encuentra después de algún caracter de gen2.\")\n",
    "else:\n",
    "    print(\"gen1 y gen2 son los mismos\")"
   ]
  },
  {
   "cell_type": "code",
   "execution_count": null,
   "id": "87f17faa",
   "metadata": {
    "scrolled": true
   },
   "outputs": [],
   "source": [
    "# Considerando la codificación de los caracteres\n",
    "gen1_mayus = 'ATGACTGATCGAT'\n",
    "gen1_minus = \"atgactgatcgat\"\n",
    "\n",
    "print(gen1_mayus < gen1_minus)\n",
    "print(\"El valor en unicode de 'A' es: \", ord('A'), \"mientras que el valor en unicod de 'a' es: \",ord('a'))"
   ]
  },
  {
   "cell_type": "markdown",
   "id": "4fbd2dfa",
   "metadata": {},
   "source": [
    "Para saber más sobre [Unicode en `Python`](https://docs.python.org/3/howto/unicode.html)."
   ]
  },
  {
   "cell_type": "markdown",
   "id": "ceccd117",
   "metadata": {
    "id": "ceccd117"
   },
   "source": [
    "### not\n",
    "Este operador muestra el resultado contrario de la expresión. Sea $p$ una expresión: \n"
   ]
  },
  {
   "cell_type": "code",
   "execution_count": null,
   "id": "6b478fe2",
   "metadata": {
    "id": "6b478fe2",
    "outputId": "271726e6-8476-4d4f-bcd7-cbc4be72329f"
   },
   "outputs": [],
   "source": [
    "# Lo fácil\n"
   ]
  },
  {
   "cell_type": "code",
   "execution_count": null,
   "id": "c3a64edd",
   "metadata": {
    "id": "c3a64edd",
    "outputId": "400d7335-266e-46e1-90e1-e21f5ae9a330"
   },
   "outputs": [],
   "source": [
    "# Utilizando en conjunto con otros operadores\n"
   ]
  },
  {
   "cell_type": "code",
   "execution_count": null,
   "id": "59cba405",
   "metadata": {
    "id": "59cba405",
    "outputId": "b9ec57a4-3771-4b3f-da12-1c947ca6a1f5"
   },
   "outputs": [],
   "source": [
    "# Con variables\n"
   ]
  },
  {
   "cell_type": "code",
   "execution_count": null,
   "id": "d09fddff",
   "metadata": {},
   "outputs": [],
   "source": [
    "\n"
   ]
  },
  {
   "cell_type": "markdown",
   "id": "83e86dc6",
   "metadata": {
    "id": "83e86dc6"
   },
   "source": [
    "En Python si una variable es cero o está vacía se considera `Falso`, por el contrario, si tiene almacenado un valor, entonces es `Verdadero`."
   ]
  },
  {
   "cell_type": "markdown",
   "id": "971d2da9",
   "metadata": {
    "id": "971d2da9"
   },
   "source": [
    "## Operadores especiales\n",
    "\n",
    "* **Operadores de identidad**: Son utilizados para checar si dos valores o variables están localizadas en la misma posición de la memoria. \n",
    "En Python son `is` e `is not`. El resultado es un booleano."
   ]
  },
  {
   "cell_type": "code",
   "execution_count": null,
   "id": "d410e09f",
   "metadata": {
    "id": "d410e09f",
    "outputId": "69261079-b34f-41ea-aaee-55b9687fc305",
    "scrolled": true
   },
   "outputs": [],
   "source": [
    "# Definir variables\n",
    "x1 = 5\n",
    "x2 = 5\n",
    "\n",
    "y1 = \"Hola\"\n",
    "y2 = \"Hola\""
   ]
  },
  {
   "cell_type": "code",
   "execution_count": null,
   "id": "99e7d6d6",
   "metadata": {},
   "outputs": [],
   "source": [
    "# Operaciones\n",
    "# La variable x1 es la variable y1 \n"
   ]
  },
  {
   "cell_type": "code",
   "execution_count": null,
   "id": "28e6af2d",
   "metadata": {},
   "outputs": [],
   "source": [
    "# La variabe x1 no es la variable x2\n"
   ]
  },
  {
   "cell_type": "code",
   "execution_count": null,
   "id": "6f78e617",
   "metadata": {},
   "outputs": [],
   "source": [
    "# Funcion id() permite conocer el espacio en la memoria. \n"
   ]
  },
  {
   "cell_type": "markdown",
   "id": "51099875",
   "metadata": {},
   "source": [
    "<div class=\"alert alert-warning\">\n",
    "    \n",
    "**Nota sobre la función `id()`** 😉\n",
    "    \n",
    "El id es la dirección de memoria del objeto y será diferente cada vez que ejecute el programa. (a excepción de algún objeto que tiene una identificación única constante, como números enteros de -5 a 256)\n",
    "</div>"
   ]
  },
  {
   "cell_type": "code",
   "execution_count": null,
   "id": "dd39f8e1",
   "metadata": {},
   "outputs": [],
   "source": [
    "# La variabe x1 es x2\n"
   ]
  },
  {
   "cell_type": "code",
   "execution_count": null,
   "id": "06b85c91",
   "metadata": {},
   "outputs": [],
   "source": [
    "# La variable x1 tiene el mismo contenido que x2\n"
   ]
  },
  {
   "cell_type": "markdown",
   "id": "9c62a866",
   "metadata": {
    "id": "9c62a866"
   },
   "source": [
    "* **Operadores de pertenencia**: Evalúan si un valor está dentro de una secuencia (una *string*, una lista). Las palabras reservadas son: `in` y `in not`. El resultado es un booleano."
   ]
  },
  {
   "cell_type": "code",
   "execution_count": null,
   "id": "30aad041",
   "metadata": {
    "id": "30aad041",
    "outputId": "7214457f-a678-4049-cac8-e5be919302b3"
   },
   "outputs": [],
   "source": [
    "# Crear una  lista\n",
    "planetas = [\"Mercurio\", \"Venus\", \"Tierra\", \"Marte\", \"Jupiter\", \"Saturno\", \"Urano\", \"Neptuno\", \"Pluton\"]\n",
    "\n",
    "# Definir variables\n",
    "satelite = \"Luna\"\n",
    "satelite2 = \"Europa\""
   ]
  },
  {
   "cell_type": "code",
   "execution_count": null,
   "id": "3e92bdf6",
   "metadata": {},
   "outputs": [],
   "source": [
    "# Operaciones\n",
    "# El contenido de la var satelite se en la lista de planetas\n",
    "\n"
   ]
  },
  {
   "cell_type": "code",
   "execution_count": null,
   "id": "520e0433",
   "metadata": {},
   "outputs": [],
   "source": [
    "# El contenido de la var satelites 2\n",
    "# no se encuentra en planetas\n"
   ]
  },
  {
   "cell_type": "code",
   "execution_count": null,
   "id": "e1985db4",
   "metadata": {},
   "outputs": [],
   "source": []
  }
 ],
 "metadata": {
  "colab": {
   "name": "03_operadores_expresiones.ipynb",
   "provenance": []
  },
  "kernelspec": {
   "display_name": "Python 3 (ipykernel)",
   "language": "python",
   "name": "python3"
  },
  "language_info": {
   "codemirror_mode": {
    "name": "ipython",
    "version": 3
   },
   "file_extension": ".py",
   "mimetype": "text/x-python",
   "name": "python",
   "nbconvert_exporter": "python",
   "pygments_lexer": "ipython3",
   "version": "3.9.15"
  },
  "varInspector": {
   "cols": {
    "lenName": 16,
    "lenType": 16,
    "lenVar": 40
   },
   "kernels_config": {
    "python": {
     "delete_cmd_postfix": "",
     "delete_cmd_prefix": "del ",
     "library": "var_list.py",
     "varRefreshCmd": "print(var_dic_list())"
    },
    "r": {
     "delete_cmd_postfix": ") ",
     "delete_cmd_prefix": "rm(",
     "library": "var_list.r",
     "varRefreshCmd": "cat(var_dic_list()) "
    }
   },
   "types_to_exclude": [
    "module",
    "function",
    "builtin_function_or_method",
    "instance",
    "_Feature"
   ],
   "window_display": false
  }
 },
 "nbformat": 4,
 "nbformat_minor": 5
}
